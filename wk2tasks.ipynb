{
 "cells": [
  {
   "cell_type": "code",
   "execution_count": 7,
   "metadata": {},
   "outputs": [
    {
     "name": "stdout",
     "output_type": "stream",
     "text": [
      "The choice of operator menu:\n",
      "Enter 'a' if you want to add(+)\n",
      "Enter 'b' if you want to subtract(-)\n",
      "Enter 'c' if you want to multiple(*)\n",
      "Enter 'd' if you want to divide(/)\n",
      "Enter 'e' if you want to square(**)\n",
      "4 to the power of  2 is 16\n"
     ]
    }
   ],
   "source": [
    "# Task 5 - Calculation\n",
    "\n",
    "number1 = int(input(\"Please enter first number.\"))\n",
    "number2 = int(input(\"Please enter second number.\"))\n",
    "\n",
    "print(\"The choice of operator menu:\")\n",
    "print(\"Enter 'a' if you want to add(+)\")\n",
    "print(\"Enter 'b' if you want to subtract(-)\")\n",
    "print(\"Enter 'c' if you want to multiple(*)\")\n",
    "print(\"Enter 'd' if you want to divide(/)\")\n",
    "print(\"Enter 'e' if you want to square(**)\")\n",
    "choice = input(\"Type a,b,c,d or e.\")\n",
    "\n",
    "total = 0\n",
    "if choice == \"a\":\n",
    "    total = number1 + number2\n",
    "    print(number1, \"+\", number2, \"=\", total)\n",
    "elif choice == \"b\":\n",
    "    total = number1 - number2\n",
    "    print(number1, \"-\", number2, \"=\", total)\n",
    "elif choice == \"c\":\n",
    "    total = number1 * number2\n",
    "    print(number1, \"*\", number2, \"=\", total)\n",
    "elif choice == \"d\":\n",
    "    total = number1 / number2\n",
    "    print(number1, \"/\", number2, \"=\", total)\n",
    "elif choice == \"e\":\n",
    "    total = number1 ** number2\n",
    "    print(number1, \"to the power of\", number2, \"is\", total)\n",
    "else:\n",
    "    print(\"no such input!\")\n"
   ]
  },
  {
   "cell_type": "code",
   "execution_count": 31,
   "metadata": {},
   "outputs": [
    {
     "name": "stdout",
     "output_type": "stream",
     "text": [
      "year 0 : £ 2000.0\n",
      "year 1 : £ 1800.0\n",
      "year 2 : £ 1620.0\n",
      "year 3 : £ 1458.0\n",
      "year 4 : £ 1312.2\n",
      "year 5 : £ 1180.98\n",
      "year 6 : £ 1062.882\n"
     ]
    }
   ],
   "source": [
    "# Task 4 - Motorbike value\n",
    "motorbike = 2000.00\n",
    "year = 0\n",
    "\n",
    "while motorbike > 1000:\n",
    "    print(\"year\",year,\": £\",motorbike)\n",
    "    year = year + 1\n",
    "    motorbike = motorbike * 0.9\n"
   ]
  },
  {
   "cell_type": "code",
   "execution_count": 32,
   "metadata": {},
   "outputs": [],
   "source": [
    "# Task 3 - Tell me your favourite menu\n",
    "yourName = input(\"Hello, your name, sir?\")\n",
    "print(\"Please have a seat,\",yourName, \"this is your menu.\")\n",
    "print(\"What would you like in your menu?\")\n",
    "\n",
    "selection = input(\"Type in starter, main, dessert, drink\")\n",
    "select_list = selection.split(\", \")\n",
    "\n",
    "if len(select_list) == 4:\n",
    "    print(\"Your favourite starter is\",select_list[0], \"and\", select_list[1],\"for the meal,\")\n",
    "    print(\"with a grass of\", select_list[3], \"and\", select_list[2],\"for the dessert.\")\n",
    "    print(\"No problem,\", yourName, \"you can have all these for free!\")\n",
    "else:\n",
    "    print(\"I don't understand, can you please tell me again!\")"
   ]
  },
  {
   "cell_type": "code",
   "execution_count": 40,
   "metadata": {},
   "outputs": [
    {
     "name": "stdout",
     "output_type": "stream",
     "text": [
      "Well,  CC give me a number from 1 to 100 and I will tell you a joke.\n",
      "99 . How does NASA organize a party?\n",
      "They planet.\n"
     ]
    }
   ],
   "source": [
    "# Task 2 - Tell you joke on a number\n",
    "\n",
    "import random\n",
    "genNumber = random.randint(1,100)\n",
    "yourName = input(\"Hello, what is your name?\")\n",
    "\n",
    "\n",
    "\n",
    "\n",
    "\n",
    "print(\"Well, \", yourName, \"give me a number from 1 to 100 and I will tell you a joke.\")\n",
    "joke = int(input(\"Any number?\"))\n",
    "\n",
    "if 0 < joke <= 20:\n",
    "    print(joke, \". Why did the bullet end up losing his job?\")\n",
    "    print(\"He got Fired!!!\")\n",
    "elif 20 < joke <= 40:\n",
    "    print(joke, \". What kind of shorts do clouds wear?\")\n",
    "    print(\"Thunderpants\")\n",
    "elif 40 < joke <= 60:\n",
    "    print(joke, \". How do you measure a snake?\")\n",
    "    print(\"In inches, cos they don't have a feet.\")\n",
    "elif 60 < joke <= 80:\n",
    "    print(joke, \". You heard the rumor going around about butter?\")\n",
    "    print(\"Never mind. I should't spread it.\")\n",
    "elif 80 < joke <= 100:\n",
    "    print(joke, \". How does NASA organize a party?\")\n",
    "    print(\"They planet.\")\n",
    "else:\n",
    "    print(\"Number \", joke, \"is out of range!\")"
   ]
  },
  {
   "cell_type": "code",
   "execution_count": 14,
   "metadata": {},
   "outputs": [
    {
     "name": "stdout",
     "output_type": "stream",
     "text": [
      "Very well Rahul I have a number from 1 to 10\n",
      "Bingo! Good guess Rahul.\n"
     ]
    }
   ],
   "source": [
    "# Task 1 - Guessing a random number\n",
    "\n",
    "import random\n",
    "genNumber = random.randint(1,10)\n",
    "yourName = input(\"Hello, what is your name?\")\n",
    "\n",
    "print(\"Very well\", yourName,\"I have a number from 1 to 10\")\n",
    "guess = int(input(\"Any guess?\"))\n",
    "\n",
    "if guess == genNumber:\n",
    "    print(\"Bingo! Good guess \"+ yourName+\".\")\n",
    "else:\n",
    "    print(\"Wrong, my number is \", genNumber, \". See you next time!\")\n"
   ]
  }
 ],
 "metadata": {
  "interpreter": {
   "hash": "aee8b7b246df8f9039afb4144a1f6fd8d2ca17a180786b69acc140d282b71a49"
  },
  "kernelspec": {
   "display_name": "Python 3.9.5 64-bit",
   "language": "python",
   "name": "python3"
  },
  "language_info": {
   "codemirror_mode": {
    "name": "ipython",
    "version": 3
   },
   "file_extension": ".py",
   "mimetype": "text/x-python",
   "name": "python",
   "nbconvert_exporter": "python",
   "pygments_lexer": "ipython3",
   "version": "3.9.5"
  },
  "orig_nbformat": 4
 },
 "nbformat": 4,
 "nbformat_minor": 2
}
