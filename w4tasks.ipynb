{
 "cells": [
  {
   "cell_type": "markdown",
   "metadata": {},
   "source": [
    "# Python SESSION"
   ]
  },
  {
   "cell_type": "code",
   "execution_count": 72,
   "metadata": {},
   "outputs": [],
   "source": [
    "#Task1: Write a program that allows you to enter 4 numbers and\n",
    "#  stores them in a file called “Numbers”\n",
    "\n",
    "f = open(\"Numbers.txt\",\"w\")\n",
    "\n",
    "inputNumber = input(\"Please input 4 numbers and separated by comma!\")\n",
    "arr = inputNumber.split(\",\")\n",
    "for x in arr:\n",
    "    f.write(x)\n",
    "    f.write(\"\\n\")\n",
    "\n",
    "f.close()"
   ]
  },
  {
   "cell_type": "code",
   "execution_count": 4,
   "metadata": {},
   "outputs": [
    {
     "name": "stdout",
     "output_type": "stream",
     "text": [
      "Your Grade is C\n",
      "you are at the target!\n"
     ]
    }
   ],
   "source": [
    "#Task2: Write a program to ask a student for their percentage mark\n",
    "#  and convert this to a grade. \n",
    "# The conversion will be done in a function called mark_grade \n",
    "\n",
    "avg = int(input(\"Please input your percentage mark.\"))\n",
    "target = input(\"Please input your target grade.\")\n",
    "\n",
    "def mark_grade(avg):\n",
    "    if avg>=81 and avg<=100:\n",
    "        print(\"Your Grade is A\")\n",
    "    elif avg>=61 and avg<81:\n",
    "        print(\"Your Grade is B\")\n",
    "    elif avg>=41 and avg<61:\n",
    "        print(\"Your Grade is C\")\n",
    "    elif avg>=33 and avg<41:\n",
    "        print(\"Your Grade is D\")\n",
    "    elif avg>=0 and avg<33:\n",
    "        print(\"Your Grade is F\")\n",
    "    else:\n",
    "        print(\"Invalid Input mark!\")\n",
    "\n",
    "def compare_target(avg,upper,lower):\n",
    "      if(avg > upper):\n",
    "        print(\"you are above the target!\")\n",
    "      elif(avg>= lower and avg <= upper):\n",
    "        print(\"you are at the target!\")\n",
    "      else:\n",
    "        print(\"you are below the target!\")\n",
    "\n",
    "def target_grade(target):\n",
    "    if target == \"A\":\n",
    "        upper = 100\n",
    "        lower = 81 \n",
    "    elif target == \"B\":\n",
    "        upper = 80\n",
    "        lower = 61\n",
    "    elif target == \"C\":\n",
    "        upper = 60\n",
    "        lower = 41\n",
    "    elif target == \"E\":\n",
    "        upper = 40\n",
    "        lower = 33\n",
    "    elif target == \"F\":\n",
    "        upper = 32\n",
    "        lower = 0\n",
    "    else:\n",
    "        print(\"Invalid Input!\")\n",
    "    compare_target(avg, upper, lower)\n",
    "\n",
    "    \n",
    "mark_grade(avg)\n",
    "target_grade(target)"
   ]
  },
  {
   "cell_type": "markdown",
   "metadata": {},
   "source": [
    "# NUMPY SESSION"
   ]
  },
  {
   "cell_type": "code",
   "execution_count": 51,
   "metadata": {},
   "outputs": [
    {
     "data": {
      "text/plain": [
       "array([0, 1, 2, 3, 4, 5, 6, 7, 8, 9])"
      ]
     },
     "execution_count": 51,
     "metadata": {},
     "output_type": "execute_result"
    }
   ],
   "source": [
    "import numpy as np\n",
    "\n",
    "# Task1: Create a 1D array of numbers from 0 to 9\n",
    "\n",
    "x = np.arange(0, 10)\n",
    "x"
   ]
  },
  {
   "cell_type": "code",
   "execution_count": 52,
   "metadata": {},
   "outputs": [
    {
     "data": {
      "text/plain": [
       "array([[ True,  True,  True],\n",
       "       [ True,  True,  True],\n",
       "       [ True,  True,  True]])"
      ]
     },
     "execution_count": 52,
     "metadata": {},
     "output_type": "execute_result"
    }
   ],
   "source": [
    "# Task2: Create a 3×3 NumPy array of all Boolean value Trues\n",
    "\n",
    "x = np.ones((3,3), dtype=bool)\n",
    "x"
   ]
  },
  {
   "cell_type": "code",
   "execution_count": 53,
   "metadata": {},
   "outputs": [
    {
     "data": {
      "text/plain": [
       "array([1, 3, 5, 7, 9])"
      ]
     },
     "execution_count": 53,
     "metadata": {},
     "output_type": "execute_result"
    }
   ],
   "source": [
    "# Task3: Extract all odd numbers from array of 1-10\n",
    "\n",
    "x = np.arange(1, 10, 2)\n",
    "x\n"
   ]
  },
  {
   "cell_type": "code",
   "execution_count": 54,
   "metadata": {},
   "outputs": [
    {
     "data": {
      "text/plain": [
       "array([-1,  2, -1,  4, -1,  6, -1,  8, -1, 10])"
      ]
     },
     "execution_count": 54,
     "metadata": {},
     "output_type": "execute_result"
    }
   ],
   "source": [
    "# Task4: Replace all odd numbers in an array of 1-10 with the value -1\n",
    "\n",
    "x = np.arange(1, 11)\n",
    "oddValue = (x%2 == 1)\n",
    "x[oddValue] = -1\n",
    "x\n"
   ]
  },
  {
   "cell_type": "code",
   "execution_count": 55,
   "metadata": {},
   "outputs": [
    {
     "data": {
      "text/plain": [
       "array([[ 21,  22,  23,  24,  25,  26],\n",
       "       [ 27,  28,  29, 210, 211, 212]])"
      ]
     },
     "execution_count": 55,
     "metadata": {},
     "output_type": "execute_result"
    }
   ],
   "source": [
    "\n",
    "#Task5: Convert a 1D array to a 2D array with 2 rows\n",
    "\n",
    "x = np.array([21, 22, 23, 24, 25, 26, 27, 28, 29, 210, 211, 212])\n",
    "x = x.reshape(2, 6)\n",
    "x "
   ]
  },
  {
   "cell_type": "code",
   "execution_count": 56,
   "metadata": {},
   "outputs": [
    {
     "data": {
      "text/plain": [
       "1944"
      ]
     },
     "execution_count": 56,
     "metadata": {},
     "output_type": "execute_result"
    }
   ],
   "source": [
    "#Task6: Create two arrays a and b, stack these two arrays vertically \n",
    "# use the np.dot and np.sum to calculate totals\n",
    "\n",
    "x = np.arange(1, 10).reshape(3,3)\n",
    "y = np.arange(10, 19).reshape(3,3)\n",
    "v = np.dot(x, y)\n",
    "sum = np.sum(v)\n",
    "sum"
   ]
  },
  {
   "cell_type": "code",
   "execution_count": 57,
   "metadata": {},
   "outputs": [
    {
     "data": {
      "text/plain": [
       "array([1, 1, 1, 2, 2, 2, 3, 3, 3, 1, 2, 3, 1, 2, 3, 1, 2, 3])"
      ]
     },
     "execution_count": 57,
     "metadata": {},
     "output_type": "execute_result"
    }
   ],
   "source": [
    "#Task7: Create the following pattern without hardcoding.\n",
    "# Use only NumPy functions.\n",
    "\n",
    "x = np.array([1, 2, 3])\n",
    "pattern = np.r_[np.repeat(x,3), np.tile(x,3)]\n",
    "pattern"
   ]
  },
  {
   "cell_type": "code",
   "execution_count": 58,
   "metadata": {},
   "outputs": [
    {
     "data": {
      "text/plain": [
       "array([1, 2, 3])"
      ]
     },
     "execution_count": 58,
     "metadata": {},
     "output_type": "execute_result"
    }
   ],
   "source": [
    "#Task8:  In two arrays a ( 1,2,3,4,5) and b ( 4,5,6,7,8,9) \n",
    "# Remove all repeating items present in array b\n",
    "\n",
    "x = np.array([1,2,3,4,5])\n",
    "y = np.array([4,5,6,7,8,9])\n",
    "x = np.setdiff1d(x,y)\n",
    "x\n"
   ]
  },
  {
   "cell_type": "code",
   "execution_count": 59,
   "metadata": {},
   "outputs": [
    {
     "data": {
      "text/plain": [
       "34"
      ]
     },
     "execution_count": 59,
     "metadata": {},
     "output_type": "execute_result"
    }
   ],
   "source": [
    "#Task9: Get all items between 3 and 7 from a and b and sum them together\n",
    "x = np.array([1,2,3,4,5])\n",
    "x = x[x>=3]\n",
    "total = x.sum()\n",
    "\n",
    "y = np.array([4,5,6,7,8,9])\n",
    "y = y[y<=7]\n",
    "total = total + y.sum()\n",
    "\n",
    "total"
   ]
  }
 ],
 "metadata": {
  "interpreter": {
   "hash": "b89b5cfaba6639976dc87ff2fec6d58faec662063367e2c229c520fe71072417"
  },
  "kernelspec": {
   "display_name": "Python 3.10.3 64-bit",
   "language": "python",
   "name": "python3"
  },
  "language_info": {
   "codemirror_mode": {
    "name": "ipython",
    "version": 3
   },
   "file_extension": ".py",
   "mimetype": "text/x-python",
   "name": "python",
   "nbconvert_exporter": "python",
   "pygments_lexer": "ipython3",
   "version": "3.10.3"
  },
  "orig_nbformat": 4
 },
 "nbformat": 4,
 "nbformat_minor": 2
}
