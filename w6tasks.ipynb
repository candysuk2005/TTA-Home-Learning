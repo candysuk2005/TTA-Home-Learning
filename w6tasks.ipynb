{
 "cells": [
  {
   "cell_type": "markdown",
   "metadata": {},
   "source": [
    "**Week 6 Home learning tasks: Data Visualization with Altair and Tableau**\n",
    "\n",
    "\n",
    "Conclusion of design choices:\n",
    "\n",
    "1. There is a learning curve for me to adopt python altair sytnax while the Tableau just plug and play.\n",
    "2. The altair need to specify the data type but Tableau will automatically recongize the data type.\n",
    "3. Tableau is simple, which has a beautiful GUI basically just drag and drop to combine different sheet and build a data dashboard.\n",
    "4. Python works very well in data transformation, cleaning and ML automation.\n",
    "5. After above discussion, I would prefer Tableau than altair for quick data visualisation analysis.\n",
    "\n",
    "!https://github.com/candysuk2005/TTA-Home-Learning/blob/main/Tableau%20chart%20Screenshot%202022-04-15%20142015.jpg\n"
   ]
  },
  {
   "cell_type": "code",
   "execution_count": 11,
   "metadata": {},
   "outputs": [],
   "source": [
    "#pip install altair\n",
    "import pandas as pd\n",
    "import altair as alt"
   ]
  },
  {
   "cell_type": "code",
   "execution_count": 12,
   "metadata": {},
   "outputs": [
    {
     "data": {
      "text/html": [
       "\n",
       "<div id=\"altair-viz-ae5904e7e132416faec022787ec792b3\"></div>\n",
       "<script type=\"text/javascript\">\n",
       "  var VEGA_DEBUG = (typeof VEGA_DEBUG == \"undefined\") ? {} : VEGA_DEBUG;\n",
       "  (function(spec, embedOpt){\n",
       "    let outputDiv = document.currentScript.previousElementSibling;\n",
       "    if (outputDiv.id !== \"altair-viz-ae5904e7e132416faec022787ec792b3\") {\n",
       "      outputDiv = document.getElementById(\"altair-viz-ae5904e7e132416faec022787ec792b3\");\n",
       "    }\n",
       "    const paths = {\n",
       "      \"vega\": \"https://cdn.jsdelivr.net/npm//vega@5?noext\",\n",
       "      \"vega-lib\": \"https://cdn.jsdelivr.net/npm//vega-lib?noext\",\n",
       "      \"vega-lite\": \"https://cdn.jsdelivr.net/npm//vega-lite@4.17.0?noext\",\n",
       "      \"vega-embed\": \"https://cdn.jsdelivr.net/npm//vega-embed@6?noext\",\n",
       "    };\n",
       "\n",
       "    function maybeLoadScript(lib, version) {\n",
       "      var key = `${lib.replace(\"-\", \"\")}_version`;\n",
       "      return (VEGA_DEBUG[key] == version) ?\n",
       "        Promise.resolve(paths[lib]) :\n",
       "        new Promise(function(resolve, reject) {\n",
       "          var s = document.createElement('script');\n",
       "          document.getElementsByTagName(\"head\")[0].appendChild(s);\n",
       "          s.async = true;\n",
       "          s.onload = () => {\n",
       "            VEGA_DEBUG[key] = version;\n",
       "            return resolve(paths[lib]);\n",
       "          };\n",
       "          s.onerror = () => reject(`Error loading script: ${paths[lib]}`);\n",
       "          s.src = paths[lib];\n",
       "        });\n",
       "    }\n",
       "\n",
       "    function showError(err) {\n",
       "      outputDiv.innerHTML = `<div class=\"error\" style=\"color:red;\">${err}</div>`;\n",
       "      throw err;\n",
       "    }\n",
       "\n",
       "    function displayChart(vegaEmbed) {\n",
       "      vegaEmbed(outputDiv, spec, embedOpt)\n",
       "        .catch(err => showError(`Javascript Error: ${err.message}<br>This usually means there's a typo in your chart specification. See the javascript console for the full traceback.`));\n",
       "    }\n",
       "\n",
       "    if(typeof define === \"function\" && define.amd) {\n",
       "      requirejs.config({paths});\n",
       "      require([\"vega-embed\"], displayChart, err => showError(`Error loading script: ${err.message}`));\n",
       "    } else {\n",
       "      maybeLoadScript(\"vega\", \"5\")\n",
       "        .then(() => maybeLoadScript(\"vega-lite\", \"4.17.0\"))\n",
       "        .then(() => maybeLoadScript(\"vega-embed\", \"6\"))\n",
       "        .catch(showError)\n",
       "        .then(() => displayChart(vegaEmbed));\n",
       "    }\n",
       "  })({\"config\": {\"view\": {\"continuousWidth\": 400, \"continuousHeight\": 300}}, \"data\": {\"url\": \"https://cdn.jsdelivr.net/npm/vega-datasets@v1.29.0/data/cars.json\"}, \"mark\": \"point\", \"encoding\": {\"x\": {\"field\": \"Acceleration\", \"scale\": {\"zero\": false}, \"type\": \"quantitative\"}, \"y\": {\"field\": \"Horsepower\", \"type\": \"quantitative\"}}, \"$schema\": \"https://vega.github.io/schema/vega-lite/v4.17.0.json\"}, {\"mode\": \"vega-lite\"});\n",
       "</script>"
      ],
      "text/plain": [
       "alt.Chart(...)"
      ]
     },
     "execution_count": 12,
     "metadata": {},
     "output_type": "execute_result"
    }
   ],
   "source": [
    "from vega_datasets import data\n",
    "\n",
    "#create a simple point chart\n",
    "cars = data.cars.url\n",
    "\n",
    "alt.Chart(cars).mark_point().encode(\n",
    "    alt.X('Acceleration:Q',\n",
    "        scale=alt.Scale(zero=False)\n",
    "    ),\n",
    "    alt.Y('Horsepower:Q')\n",
    ")"
   ]
  },
  {
   "cell_type": "code",
   "execution_count": 13,
   "metadata": {},
   "outputs": [
    {
     "data": {
      "text/html": [
       "\n",
       "<div id=\"altair-viz-ddefb6376a594b1fb00c4f5914e03079\"></div>\n",
       "<script type=\"text/javascript\">\n",
       "  var VEGA_DEBUG = (typeof VEGA_DEBUG == \"undefined\") ? {} : VEGA_DEBUG;\n",
       "  (function(spec, embedOpt){\n",
       "    let outputDiv = document.currentScript.previousElementSibling;\n",
       "    if (outputDiv.id !== \"altair-viz-ddefb6376a594b1fb00c4f5914e03079\") {\n",
       "      outputDiv = document.getElementById(\"altair-viz-ddefb6376a594b1fb00c4f5914e03079\");\n",
       "    }\n",
       "    const paths = {\n",
       "      \"vega\": \"https://cdn.jsdelivr.net/npm//vega@5?noext\",\n",
       "      \"vega-lib\": \"https://cdn.jsdelivr.net/npm//vega-lib?noext\",\n",
       "      \"vega-lite\": \"https://cdn.jsdelivr.net/npm//vega-lite@4.17.0?noext\",\n",
       "      \"vega-embed\": \"https://cdn.jsdelivr.net/npm//vega-embed@6?noext\",\n",
       "    };\n",
       "\n",
       "    function maybeLoadScript(lib, version) {\n",
       "      var key = `${lib.replace(\"-\", \"\")}_version`;\n",
       "      return (VEGA_DEBUG[key] == version) ?\n",
       "        Promise.resolve(paths[lib]) :\n",
       "        new Promise(function(resolve, reject) {\n",
       "          var s = document.createElement('script');\n",
       "          document.getElementsByTagName(\"head\")[0].appendChild(s);\n",
       "          s.async = true;\n",
       "          s.onload = () => {\n",
       "            VEGA_DEBUG[key] = version;\n",
       "            return resolve(paths[lib]);\n",
       "          };\n",
       "          s.onerror = () => reject(`Error loading script: ${paths[lib]}`);\n",
       "          s.src = paths[lib];\n",
       "        });\n",
       "    }\n",
       "\n",
       "    function showError(err) {\n",
       "      outputDiv.innerHTML = `<div class=\"error\" style=\"color:red;\">${err}</div>`;\n",
       "      throw err;\n",
       "    }\n",
       "\n",
       "    function displayChart(vegaEmbed) {\n",
       "      vegaEmbed(outputDiv, spec, embedOpt)\n",
       "        .catch(err => showError(`Javascript Error: ${err.message}<br>This usually means there's a typo in your chart specification. See the javascript console for the full traceback.`));\n",
       "    }\n",
       "\n",
       "    if(typeof define === \"function\" && define.amd) {\n",
       "      requirejs.config({paths});\n",
       "      require([\"vega-embed\"], displayChart, err => showError(`Error loading script: ${err.message}`));\n",
       "    } else {\n",
       "      maybeLoadScript(\"vega\", \"5\")\n",
       "        .then(() => maybeLoadScript(\"vega-lite\", \"4.17.0\"))\n",
       "        .then(() => maybeLoadScript(\"vega-embed\", \"6\"))\n",
       "        .catch(showError)\n",
       "        .then(() => displayChart(vegaEmbed));\n",
       "    }\n",
       "  })({\"config\": {\"view\": {\"continuousWidth\": 400, \"continuousHeight\": 300}}, \"vconcat\": [{\"mark\": \"point\", \"encoding\": {\"color\": {\"condition\": {\"field\": \"species\", \"type\": \"nominal\", \"selection\": \"selector002\"}, \"value\": \"lightgray\"}, \"x\": {\"field\": \"sepalLength\", \"scale\": {\"zero\": false}, \"type\": \"quantitative\"}, \"y\": {\"field\": \"sepalWidth\", \"type\": \"quantitative\"}}, \"selection\": {\"selector002\": {\"type\": \"interval\"}}}, {\"mark\": \"bar\", \"encoding\": {\"color\": {\"field\": \"species\", \"type\": \"nominal\"}, \"x\": {\"aggregate\": \"count\", \"field\": \"species\", \"type\": \"quantitative\"}, \"y\": {\"field\": \"species\", \"type\": \"nominal\"}}, \"transform\": [{\"filter\": {\"selection\": \"selector002\"}}]}], \"data\": {\"name\": \"data-a264acbd6e539a8b3afc0cb5f240fb57\"}, \"$schema\": \"https://vega.github.io/schema/vega-lite/v4.17.0.json\", \"datasets\": {\"data-a264acbd6e539a8b3afc0cb5f240fb57\": [{\"sepalLength\": 5.1, \"sepalWidth\": 3.5, \"petalLength\": 1.4, \"petalWidth\": 0.2, \"species\": \"setosa\"}, {\"sepalLength\": 4.9, \"sepalWidth\": 3.0, \"petalLength\": 1.4, \"petalWidth\": 0.2, \"species\": \"setosa\"}, {\"sepalLength\": 4.7, \"sepalWidth\": 3.2, \"petalLength\": 1.3, \"petalWidth\": 0.2, \"species\": \"setosa\"}, {\"sepalLength\": 4.6, \"sepalWidth\": 3.1, \"petalLength\": 1.5, \"petalWidth\": 0.2, \"species\": \"setosa\"}, {\"sepalLength\": 5.0, \"sepalWidth\": 3.6, \"petalLength\": 1.4, \"petalWidth\": 0.2, \"species\": \"setosa\"}, {\"sepalLength\": 5.4, \"sepalWidth\": 3.9, \"petalLength\": 1.7000000000000002, \"petalWidth\": 0.4, \"species\": \"setosa\"}, {\"sepalLength\": 4.6, \"sepalWidth\": 3.4, \"petalLength\": 1.4, \"petalWidth\": 0.30000000000000004, \"species\": \"setosa\"}, {\"sepalLength\": 5.0, \"sepalWidth\": 3.4, \"petalLength\": 1.5, \"petalWidth\": 0.2, \"species\": \"setosa\"}, {\"sepalLength\": 4.4, \"sepalWidth\": 2.9, \"petalLength\": 1.4, \"petalWidth\": 0.2, \"species\": \"setosa\"}, {\"sepalLength\": 4.9, \"sepalWidth\": 3.1, \"petalLength\": 1.5, \"petalWidth\": 0.1, \"species\": \"setosa\"}, {\"sepalLength\": 5.4, \"sepalWidth\": 3.7, \"petalLength\": 1.5, \"petalWidth\": 0.2, \"species\": \"setosa\"}, {\"sepalLength\": 4.8, \"sepalWidth\": 3.4, \"petalLength\": 1.6, \"petalWidth\": 0.2, \"species\": \"setosa\"}, {\"sepalLength\": 4.8, \"sepalWidth\": 3.0, \"petalLength\": 1.4, \"petalWidth\": 0.1, \"species\": \"setosa\"}, {\"sepalLength\": 4.3, \"sepalWidth\": 3.0, \"petalLength\": 1.1, \"petalWidth\": 0.1, \"species\": \"setosa\"}, {\"sepalLength\": 5.8, \"sepalWidth\": 4.0, \"petalLength\": 1.2, \"petalWidth\": 0.2, \"species\": \"setosa\"}, {\"sepalLength\": 5.7, \"sepalWidth\": 4.4, \"petalLength\": 1.5, \"petalWidth\": 0.4, \"species\": \"setosa\"}, {\"sepalLength\": 5.4, \"sepalWidth\": 3.9, \"petalLength\": 1.3, \"petalWidth\": 0.4, \"species\": \"setosa\"}, {\"sepalLength\": 5.1, \"sepalWidth\": 3.5, \"petalLength\": 1.4, \"petalWidth\": 0.30000000000000004, \"species\": \"setosa\"}, {\"sepalLength\": 5.7, \"sepalWidth\": 3.8, \"petalLength\": 1.7000000000000002, \"petalWidth\": 0.30000000000000004, \"species\": \"setosa\"}, {\"sepalLength\": 5.1, \"sepalWidth\": 3.8, \"petalLength\": 1.5, \"petalWidth\": 0.30000000000000004, \"species\": \"setosa\"}, {\"sepalLength\": 5.4, \"sepalWidth\": 3.4, \"petalLength\": 1.7000000000000002, \"petalWidth\": 0.2, \"species\": \"setosa\"}, {\"sepalLength\": 5.1, \"sepalWidth\": 3.7, \"petalLength\": 1.5, \"petalWidth\": 0.4, \"species\": \"setosa\"}, {\"sepalLength\": 4.6, \"sepalWidth\": 3.6, \"petalLength\": 1.0, \"petalWidth\": 0.2, \"species\": \"setosa\"}, {\"sepalLength\": 5.1, \"sepalWidth\": 3.3, \"petalLength\": 1.7000000000000002, \"petalWidth\": 0.5, \"species\": \"setosa\"}, {\"sepalLength\": 4.8, \"sepalWidth\": 3.4, \"petalLength\": 1.9, \"petalWidth\": 0.2, \"species\": \"setosa\"}, {\"sepalLength\": 5.0, \"sepalWidth\": 3.0, \"petalLength\": 1.6, \"petalWidth\": 0.2, \"species\": \"setosa\"}, {\"sepalLength\": 5.0, \"sepalWidth\": 3.4, \"petalLength\": 1.6, \"petalWidth\": 0.4, \"species\": \"setosa\"}, {\"sepalLength\": 5.2, \"sepalWidth\": 3.5, \"petalLength\": 1.5, \"petalWidth\": 0.2, \"species\": \"setosa\"}, {\"sepalLength\": 5.2, \"sepalWidth\": 3.4, \"petalLength\": 1.4, \"petalWidth\": 0.2, \"species\": \"setosa\"}, {\"sepalLength\": 4.7, \"sepalWidth\": 3.2, \"petalLength\": 1.6, \"petalWidth\": 0.2, \"species\": \"setosa\"}, {\"sepalLength\": 4.8, \"sepalWidth\": 3.1, \"petalLength\": 1.6, \"petalWidth\": 0.2, \"species\": \"setosa\"}, {\"sepalLength\": 5.4, \"sepalWidth\": 3.4, \"petalLength\": 1.5, \"petalWidth\": 0.4, \"species\": \"setosa\"}, {\"sepalLength\": 5.2, \"sepalWidth\": 4.1, \"petalLength\": 1.5, \"petalWidth\": 0.1, \"species\": \"setosa\"}, {\"sepalLength\": 5.5, \"sepalWidth\": 4.2, \"petalLength\": 1.4, \"petalWidth\": 0.2, \"species\": \"setosa\"}, {\"sepalLength\": 4.9, \"sepalWidth\": 3.1, \"petalLength\": 1.5, \"petalWidth\": 0.2, \"species\": \"setosa\"}, {\"sepalLength\": 5.0, \"sepalWidth\": 3.2, \"petalLength\": 1.2, \"petalWidth\": 0.2, \"species\": \"setosa\"}, {\"sepalLength\": 5.5, \"sepalWidth\": 3.5, \"petalLength\": 1.3, \"petalWidth\": 0.2, \"species\": \"setosa\"}, {\"sepalLength\": 4.9, \"sepalWidth\": 3.6, \"petalLength\": 1.4, \"petalWidth\": 0.1, \"species\": \"setosa\"}, {\"sepalLength\": 4.4, \"sepalWidth\": 3.0, \"petalLength\": 1.3, \"petalWidth\": 0.2, \"species\": \"setosa\"}, {\"sepalLength\": 5.1, \"sepalWidth\": 3.4, \"petalLength\": 1.5, \"petalWidth\": 0.2, \"species\": \"setosa\"}, {\"sepalLength\": 5.0, \"sepalWidth\": 3.5, \"petalLength\": 1.3, \"petalWidth\": 0.30000000000000004, \"species\": \"setosa\"}, {\"sepalLength\": 4.5, \"sepalWidth\": 2.3, \"petalLength\": 1.3, \"petalWidth\": 0.30000000000000004, \"species\": \"setosa\"}, {\"sepalLength\": 4.4, \"sepalWidth\": 3.2, \"petalLength\": 1.3, \"petalWidth\": 0.2, \"species\": \"setosa\"}, {\"sepalLength\": 5.0, \"sepalWidth\": 3.5, \"petalLength\": 1.6, \"petalWidth\": 0.6000000000000001, \"species\": \"setosa\"}, {\"sepalLength\": 5.1, \"sepalWidth\": 3.8, \"petalLength\": 1.9, \"petalWidth\": 0.4, \"species\": \"setosa\"}, {\"sepalLength\": 4.8, \"sepalWidth\": 3.0, \"petalLength\": 1.4, \"petalWidth\": 0.30000000000000004, \"species\": \"setosa\"}, {\"sepalLength\": 5.1, \"sepalWidth\": 3.8, \"petalLength\": 1.6, \"petalWidth\": 0.2, \"species\": \"setosa\"}, {\"sepalLength\": 4.6, \"sepalWidth\": 3.2, \"petalLength\": 1.4, \"petalWidth\": 0.2, \"species\": \"setosa\"}, {\"sepalLength\": 5.3, \"sepalWidth\": 3.7, \"petalLength\": 1.5, \"petalWidth\": 0.2, \"species\": \"setosa\"}, {\"sepalLength\": 5.0, \"sepalWidth\": 3.3, \"petalLength\": 1.4, \"petalWidth\": 0.2, \"species\": \"setosa\"}, {\"sepalLength\": 7.0, \"sepalWidth\": 3.2, \"petalLength\": 4.7, \"petalWidth\": 1.4, \"species\": \"versicolor\"}, {\"sepalLength\": 6.4, \"sepalWidth\": 3.2, \"petalLength\": 4.5, \"petalWidth\": 1.5, \"species\": \"versicolor\"}, {\"sepalLength\": 6.9, \"sepalWidth\": 3.1, \"petalLength\": 4.9, \"petalWidth\": 1.5, \"species\": \"versicolor\"}, {\"sepalLength\": 5.5, \"sepalWidth\": 2.3, \"petalLength\": 4.0, \"petalWidth\": 1.3, \"species\": \"versicolor\"}, {\"sepalLength\": 6.5, \"sepalWidth\": 2.8, \"petalLength\": 4.6, \"petalWidth\": 1.5, \"species\": \"versicolor\"}, {\"sepalLength\": 5.7, \"sepalWidth\": 2.8, \"petalLength\": 4.5, \"petalWidth\": 1.3, \"species\": \"versicolor\"}, {\"sepalLength\": 6.3, \"sepalWidth\": 3.3, \"petalLength\": 4.7, \"petalWidth\": 1.6, \"species\": \"versicolor\"}, {\"sepalLength\": 4.9, \"sepalWidth\": 2.4, \"petalLength\": 3.3, \"petalWidth\": 1.0, \"species\": \"versicolor\"}, {\"sepalLength\": 6.6, \"sepalWidth\": 2.9, \"petalLength\": 4.6, \"petalWidth\": 1.3, \"species\": \"versicolor\"}, {\"sepalLength\": 5.2, \"sepalWidth\": 2.7, \"petalLength\": 3.9, \"petalWidth\": 1.4, \"species\": \"versicolor\"}, {\"sepalLength\": 5.0, \"sepalWidth\": 2.0, \"petalLength\": 3.5, \"petalWidth\": 1.0, \"species\": \"versicolor\"}, {\"sepalLength\": 5.9, \"sepalWidth\": 3.0, \"petalLength\": 4.2, \"petalWidth\": 1.5, \"species\": \"versicolor\"}, {\"sepalLength\": 6.0, \"sepalWidth\": 2.2, \"petalLength\": 4.0, \"petalWidth\": 1.0, \"species\": \"versicolor\"}, {\"sepalLength\": 6.1, \"sepalWidth\": 2.9, \"petalLength\": 4.7, \"petalWidth\": 1.4, \"species\": \"versicolor\"}, {\"sepalLength\": 5.6, \"sepalWidth\": 2.9, \"petalLength\": 3.6, \"petalWidth\": 1.3, \"species\": \"versicolor\"}, {\"sepalLength\": 6.7, \"sepalWidth\": 3.1, \"petalLength\": 4.4, \"petalWidth\": 1.4, \"species\": \"versicolor\"}, {\"sepalLength\": 5.6, \"sepalWidth\": 3.0, \"petalLength\": 4.5, \"petalWidth\": 1.5, \"species\": \"versicolor\"}, {\"sepalLength\": 5.8, \"sepalWidth\": 2.7, \"petalLength\": 4.1, \"petalWidth\": 1.0, \"species\": \"versicolor\"}, {\"sepalLength\": 6.2, \"sepalWidth\": 2.2, \"petalLength\": 4.5, \"petalWidth\": 1.5, \"species\": \"versicolor\"}, {\"sepalLength\": 5.6, \"sepalWidth\": 2.5, \"petalLength\": 3.9, \"petalWidth\": 1.1, \"species\": \"versicolor\"}, {\"sepalLength\": 5.9, \"sepalWidth\": 3.2, \"petalLength\": 4.8, \"petalWidth\": 1.8, \"species\": \"versicolor\"}, {\"sepalLength\": 6.1, \"sepalWidth\": 2.8, \"petalLength\": 4.0, \"petalWidth\": 1.3, \"species\": \"versicolor\"}, {\"sepalLength\": 6.3, \"sepalWidth\": 2.5, \"petalLength\": 4.9, \"petalWidth\": 1.5, \"species\": \"versicolor\"}, {\"sepalLength\": 6.1, \"sepalWidth\": 2.8, \"petalLength\": 4.7, \"petalWidth\": 1.2, \"species\": \"versicolor\"}, {\"sepalLength\": 6.4, \"sepalWidth\": 2.9, \"petalLength\": 4.3, \"petalWidth\": 1.3, \"species\": \"versicolor\"}, {\"sepalLength\": 6.6, \"sepalWidth\": 3.0, \"petalLength\": 4.4, \"petalWidth\": 1.4, \"species\": \"versicolor\"}, {\"sepalLength\": 6.8, \"sepalWidth\": 2.8, \"petalLength\": 4.8, \"petalWidth\": 1.4, \"species\": \"versicolor\"}, {\"sepalLength\": 6.7, \"sepalWidth\": 3.0, \"petalLength\": 5.0, \"petalWidth\": 1.7000000000000002, \"species\": \"versicolor\"}, {\"sepalLength\": 6.0, \"sepalWidth\": 2.9, \"petalLength\": 4.5, \"petalWidth\": 1.5, \"species\": \"versicolor\"}, {\"sepalLength\": 5.7, \"sepalWidth\": 2.6, \"petalLength\": 3.5, \"petalWidth\": 1.0, \"species\": \"versicolor\"}, {\"sepalLength\": 5.5, \"sepalWidth\": 2.4, \"petalLength\": 3.8, \"petalWidth\": 1.1, \"species\": \"versicolor\"}, {\"sepalLength\": 5.5, \"sepalWidth\": 2.4, \"petalLength\": 3.7, \"petalWidth\": 1.0, \"species\": \"versicolor\"}, {\"sepalLength\": 5.8, \"sepalWidth\": 2.7, \"petalLength\": 3.9, \"petalWidth\": 1.2, \"species\": \"versicolor\"}, {\"sepalLength\": 6.0, \"sepalWidth\": 2.7, \"petalLength\": 5.1, \"petalWidth\": 1.6, \"species\": \"versicolor\"}, {\"sepalLength\": 5.4, \"sepalWidth\": 3.0, \"petalLength\": 4.5, \"petalWidth\": 1.5, \"species\": \"versicolor\"}, {\"sepalLength\": 6.0, \"sepalWidth\": 3.4, \"petalLength\": 4.5, \"petalWidth\": 1.6, \"species\": \"versicolor\"}, {\"sepalLength\": 6.7, \"sepalWidth\": 3.1, \"petalLength\": 4.7, \"petalWidth\": 1.5, \"species\": \"versicolor\"}, {\"sepalLength\": 6.3, \"sepalWidth\": 2.3, \"petalLength\": 4.4, \"petalWidth\": 1.3, \"species\": \"versicolor\"}, {\"sepalLength\": 5.6, \"sepalWidth\": 3.0, \"petalLength\": 4.1, \"petalWidth\": 1.3, \"species\": \"versicolor\"}, {\"sepalLength\": 5.5, \"sepalWidth\": 2.5, \"petalLength\": 4.0, \"petalWidth\": 1.3, \"species\": \"versicolor\"}, {\"sepalLength\": 5.5, \"sepalWidth\": 2.6, \"petalLength\": 4.4, \"petalWidth\": 1.2, \"species\": \"versicolor\"}, {\"sepalLength\": 6.1, \"sepalWidth\": 3.0, \"petalLength\": 4.6, \"petalWidth\": 1.4, \"species\": \"versicolor\"}, {\"sepalLength\": 5.8, \"sepalWidth\": 2.6, \"petalLength\": 4.0, \"petalWidth\": 1.2, \"species\": \"versicolor\"}, {\"sepalLength\": 5.0, \"sepalWidth\": 2.3, \"petalLength\": 3.3, \"petalWidth\": 1.0, \"species\": \"versicolor\"}, {\"sepalLength\": 5.6, \"sepalWidth\": 2.7, \"petalLength\": 4.2, \"petalWidth\": 1.3, \"species\": \"versicolor\"}, {\"sepalLength\": 5.7, \"sepalWidth\": 3.0, \"petalLength\": 4.2, \"petalWidth\": 1.2, \"species\": \"versicolor\"}, {\"sepalLength\": 5.7, \"sepalWidth\": 2.9, \"petalLength\": 4.2, \"petalWidth\": 1.3, \"species\": \"versicolor\"}, {\"sepalLength\": 6.2, \"sepalWidth\": 2.9, \"petalLength\": 4.3, \"petalWidth\": 1.3, \"species\": \"versicolor\"}, {\"sepalLength\": 5.1, \"sepalWidth\": 2.5, \"petalLength\": 3.0, \"petalWidth\": 1.1, \"species\": \"versicolor\"}, {\"sepalLength\": 5.7, \"sepalWidth\": 2.8, \"petalLength\": 4.1, \"petalWidth\": 1.3, \"species\": \"versicolor\"}, {\"sepalLength\": 6.3, \"sepalWidth\": 3.3, \"petalLength\": 6.0, \"petalWidth\": 2.5, \"species\": \"virginica\"}, {\"sepalLength\": 5.8, \"sepalWidth\": 2.7, \"petalLength\": 5.1, \"petalWidth\": 1.9, \"species\": \"virginica\"}, {\"sepalLength\": 7.1, \"sepalWidth\": 3.0, \"petalLength\": 5.9, \"petalWidth\": 2.1, \"species\": \"virginica\"}, {\"sepalLength\": 6.3, \"sepalWidth\": 2.9, \"petalLength\": 5.6, \"petalWidth\": 1.8, \"species\": \"virginica\"}, {\"sepalLength\": 6.5, \"sepalWidth\": 3.0, \"petalLength\": 5.8, \"petalWidth\": 2.2, \"species\": \"virginica\"}, {\"sepalLength\": 7.6, \"sepalWidth\": 3.0, \"petalLength\": 6.6, \"petalWidth\": 2.1, \"species\": \"virginica\"}, {\"sepalLength\": 4.9, \"sepalWidth\": 2.5, \"petalLength\": 4.5, \"petalWidth\": 1.7000000000000002, \"species\": \"virginica\"}, {\"sepalLength\": 7.3, \"sepalWidth\": 2.9, \"petalLength\": 6.3, \"petalWidth\": 1.8, \"species\": \"virginica\"}, {\"sepalLength\": 6.7, \"sepalWidth\": 2.5, \"petalLength\": 5.8, \"petalWidth\": 1.8, \"species\": \"virginica\"}, {\"sepalLength\": 7.2, \"sepalWidth\": 3.6, \"petalLength\": 6.1, \"petalWidth\": 2.5, \"species\": \"virginica\"}, {\"sepalLength\": 6.5, \"sepalWidth\": 3.2, \"petalLength\": 5.1, \"petalWidth\": 2.0, \"species\": \"virginica\"}, {\"sepalLength\": 6.4, \"sepalWidth\": 2.7, \"petalLength\": 5.3, \"petalWidth\": 1.9, \"species\": \"virginica\"}, {\"sepalLength\": 6.8, \"sepalWidth\": 3.0, \"petalLength\": 5.5, \"petalWidth\": 2.1, \"species\": \"virginica\"}, {\"sepalLength\": 5.7, \"sepalWidth\": 2.5, \"petalLength\": 5.0, \"petalWidth\": 2.0, \"species\": \"virginica\"}, {\"sepalLength\": 5.8, \"sepalWidth\": 2.8, \"petalLength\": 5.1, \"petalWidth\": 2.4, \"species\": \"virginica\"}, {\"sepalLength\": 6.4, \"sepalWidth\": 3.2, \"petalLength\": 5.3, \"petalWidth\": 2.3, \"species\": \"virginica\"}, {\"sepalLength\": 6.5, \"sepalWidth\": 3.0, \"petalLength\": 5.5, \"petalWidth\": 1.8, \"species\": \"virginica\"}, {\"sepalLength\": 7.7, \"sepalWidth\": 3.8, \"petalLength\": 6.7, \"petalWidth\": 2.2, \"species\": \"virginica\"}, {\"sepalLength\": 7.7, \"sepalWidth\": 2.6, \"petalLength\": 6.9, \"petalWidth\": 2.3, \"species\": \"virginica\"}, {\"sepalLength\": 6.0, \"sepalWidth\": 2.2, \"petalLength\": 5.0, \"petalWidth\": 1.5, \"species\": \"virginica\"}, {\"sepalLength\": 6.9, \"sepalWidth\": 3.2, \"petalLength\": 5.7, \"petalWidth\": 2.3, \"species\": \"virginica\"}, {\"sepalLength\": 5.6, \"sepalWidth\": 2.8, \"petalLength\": 4.9, \"petalWidth\": 2.0, \"species\": \"virginica\"}, {\"sepalLength\": 7.7, \"sepalWidth\": 2.8, \"petalLength\": 6.7, \"petalWidth\": 2.0, \"species\": \"virginica\"}, {\"sepalLength\": 6.3, \"sepalWidth\": 2.7, \"petalLength\": 4.9, \"petalWidth\": 1.8, \"species\": \"virginica\"}, {\"sepalLength\": 6.7, \"sepalWidth\": 3.3, \"petalLength\": 5.7, \"petalWidth\": 2.1, \"species\": \"virginica\"}, {\"sepalLength\": 7.2, \"sepalWidth\": 3.2, \"petalLength\": 6.0, \"petalWidth\": 1.8, \"species\": \"virginica\"}, {\"sepalLength\": 6.2, \"sepalWidth\": 2.8, \"petalLength\": 4.8, \"petalWidth\": 1.8, \"species\": \"virginica\"}, {\"sepalLength\": 6.1, \"sepalWidth\": 3.0, \"petalLength\": 4.9, \"petalWidth\": 1.8, \"species\": \"virginica\"}, {\"sepalLength\": 6.4, \"sepalWidth\": 2.8, \"petalLength\": 5.6, \"petalWidth\": 2.1, \"species\": \"virginica\"}, {\"sepalLength\": 7.2, \"sepalWidth\": 3.0, \"petalLength\": 5.8, \"petalWidth\": 1.6, \"species\": \"virginica\"}, {\"sepalLength\": 7.4, \"sepalWidth\": 2.8, \"petalLength\": 6.1, \"petalWidth\": 1.9, \"species\": \"virginica\"}, {\"sepalLength\": 7.9, \"sepalWidth\": 3.8, \"petalLength\": 6.4, \"petalWidth\": 2.0, \"species\": \"virginica\"}, {\"sepalLength\": 6.4, \"sepalWidth\": 2.8, \"petalLength\": 5.6, \"petalWidth\": 2.2, \"species\": \"virginica\"}, {\"sepalLength\": 6.3, \"sepalWidth\": 2.8, \"petalLength\": 5.1, \"petalWidth\": 1.5, \"species\": \"virginica\"}, {\"sepalLength\": 6.1, \"sepalWidth\": 2.6, \"petalLength\": 5.6, \"petalWidth\": 1.4, \"species\": \"virginica\"}, {\"sepalLength\": 7.7, \"sepalWidth\": 3.0, \"petalLength\": 6.1, \"petalWidth\": 2.3, \"species\": \"virginica\"}, {\"sepalLength\": 6.3, \"sepalWidth\": 3.4, \"petalLength\": 5.6, \"petalWidth\": 2.4, \"species\": \"virginica\"}, {\"sepalLength\": 6.4, \"sepalWidth\": 3.1, \"petalLength\": 5.5, \"petalWidth\": 1.8, \"species\": \"virginica\"}, {\"sepalLength\": 6.0, \"sepalWidth\": 3.0, \"petalLength\": 4.8, \"petalWidth\": 1.8, \"species\": \"virginica\"}, {\"sepalLength\": 6.9, \"sepalWidth\": 3.1, \"petalLength\": 5.4, \"petalWidth\": 2.1, \"species\": \"virginica\"}, {\"sepalLength\": 6.7, \"sepalWidth\": 3.1, \"petalLength\": 5.6, \"petalWidth\": 2.4, \"species\": \"virginica\"}, {\"sepalLength\": 6.9, \"sepalWidth\": 3.1, \"petalLength\": 5.1, \"petalWidth\": 2.3, \"species\": \"virginica\"}, {\"sepalLength\": 5.8, \"sepalWidth\": 2.7, \"petalLength\": 5.1, \"petalWidth\": 1.9, \"species\": \"virginica\"}, {\"sepalLength\": 6.8, \"sepalWidth\": 3.2, \"petalLength\": 5.9, \"petalWidth\": 2.3, \"species\": \"virginica\"}, {\"sepalLength\": 6.7, \"sepalWidth\": 3.3, \"petalLength\": 5.7, \"petalWidth\": 2.5, \"species\": \"virginica\"}, {\"sepalLength\": 6.7, \"sepalWidth\": 3.0, \"petalLength\": 5.2, \"petalWidth\": 2.3, \"species\": \"virginica\"}, {\"sepalLength\": 6.3, \"sepalWidth\": 2.5, \"petalLength\": 5.0, \"petalWidth\": 1.9, \"species\": \"virginica\"}, {\"sepalLength\": 6.5, \"sepalWidth\": 3.0, \"petalLength\": 5.2, \"petalWidth\": 2.0, \"species\": \"virginica\"}, {\"sepalLength\": 6.2, \"sepalWidth\": 3.4, \"petalLength\": 5.4, \"petalWidth\": 2.3, \"species\": \"virginica\"}, {\"sepalLength\": 5.9, \"sepalWidth\": 3.0, \"petalLength\": 5.1, \"petalWidth\": 1.8, \"species\": \"virginica\"}]}}, {\"mode\": \"vega-lite\"});\n",
       "</script>"
      ],
      "text/plain": [
       "alt.VConcatChart(...)"
      ]
     },
     "execution_count": 13,
     "metadata": {},
     "output_type": "execute_result"
    }
   ],
   "source": [
    "#create an interative visualization charts\n",
    "iris=data.iris()\n",
    "\n",
    "brush = alt.selection_interval()\n",
    "points = alt.Chart(iris).mark_point().encode(\n",
    "    alt.X('sepalLength:Q',\n",
    "        scale=alt.Scale(zero=False)\n",
    "    ),\n",
    "    y='sepalWidth:Q',\n",
    "    color=alt.condition(brush, 'species:N', alt.value('lightgray'))\n",
    ").add_selection(\n",
    "    brush\n",
    ")\n",
    "\n",
    "bars = alt.Chart(iris).mark_bar().encode(\n",
    "    y='species:N',\n",
    "    color='species:N',\n",
    "    x='count(species):Q'\n",
    ").transform_filter(\n",
    "    brush\n",
    ")\n",
    "points & bars"
   ]
  },
  {
   "cell_type": "markdown",
   "metadata": {},
   "source": [
    "**Working on our Own Data: UK housing Dataset**"
   ]
  },
  {
   "cell_type": "code",
   "execution_count": 14,
   "metadata": {},
   "outputs": [
    {
     "data": {
      "text/html": [
       "<div>\n",
       "<style scoped>\n",
       "    .dataframe tbody tr th:only-of-type {\n",
       "        vertical-align: middle;\n",
       "    }\n",
       "\n",
       "    .dataframe tbody tr th {\n",
       "        vertical-align: top;\n",
       "    }\n",
       "\n",
       "    .dataframe thead th {\n",
       "        text-align: right;\n",
       "    }\n",
       "</style>\n",
       "<table border=\"1\" class=\"dataframe\">\n",
       "  <thead>\n",
       "    <tr style=\"text-align: right;\">\n",
       "      <th></th>\n",
       "      <th>Name</th>\n",
       "      <th>URI</th>\n",
       "      <th>Region GSS code</th>\n",
       "      <th>Period</th>\n",
       "      <th>Sales volume</th>\n",
       "      <th>Reporting period</th>\n",
       "      <th>Average price Flats and maisonettes</th>\n",
       "      <th>Pivotable date</th>\n",
       "    </tr>\n",
       "  </thead>\n",
       "  <tbody>\n",
       "    <tr>\n",
       "      <th>0</th>\n",
       "      <td>Birmingham</td>\n",
       "      <td>http://landregistry.data.gov.uk/id/region/birm...</td>\n",
       "      <td>E08000025</td>\n",
       "      <td>2018-01</td>\n",
       "      <td>1023.0</td>\n",
       "      <td>monthly</td>\n",
       "      <td>131877</td>\n",
       "      <td>2018-01-01</td>\n",
       "    </tr>\n",
       "    <tr>\n",
       "      <th>1</th>\n",
       "      <td>England</td>\n",
       "      <td>http://landregistry.data.gov.uk/id/region/england</td>\n",
       "      <td>E92000001</td>\n",
       "      <td>2018-01</td>\n",
       "      <td>57138.0</td>\n",
       "      <td>monthly</td>\n",
       "      <td>227374</td>\n",
       "      <td>2018-01-01</td>\n",
       "    </tr>\n",
       "    <tr>\n",
       "      <th>2</th>\n",
       "      <td>London</td>\n",
       "      <td>http://landregistry.data.gov.uk/id/region/london</td>\n",
       "      <td>E12000007</td>\n",
       "      <td>2018-01</td>\n",
       "      <td>6584.0</td>\n",
       "      <td>monthly</td>\n",
       "      <td>425766</td>\n",
       "      <td>2018-01-01</td>\n",
       "    </tr>\n",
       "    <tr>\n",
       "      <th>3</th>\n",
       "      <td>Manchester</td>\n",
       "      <td>http://landregistry.data.gov.uk/id/region/manc...</td>\n",
       "      <td>E08000003</td>\n",
       "      <td>2018-01</td>\n",
       "      <td>465.0</td>\n",
       "      <td>monthly</td>\n",
       "      <td>154751</td>\n",
       "      <td>2018-01-01</td>\n",
       "    </tr>\n",
       "    <tr>\n",
       "      <th>4</th>\n",
       "      <td>Birmingham</td>\n",
       "      <td>http://landregistry.data.gov.uk/id/region/birm...</td>\n",
       "      <td>E08000025</td>\n",
       "      <td>2018-02</td>\n",
       "      <td>1095.0</td>\n",
       "      <td>monthly</td>\n",
       "      <td>132270</td>\n",
       "      <td>2018-02-01</td>\n",
       "    </tr>\n",
       "  </tbody>\n",
       "</table>\n",
       "</div>"
      ],
      "text/plain": [
       "         Name                                                URI  \\\n",
       "0  Birmingham  http://landregistry.data.gov.uk/id/region/birm...   \n",
       "1     England  http://landregistry.data.gov.uk/id/region/england   \n",
       "2      London   http://landregistry.data.gov.uk/id/region/london   \n",
       "3  Manchester  http://landregistry.data.gov.uk/id/region/manc...   \n",
       "4  Birmingham  http://landregistry.data.gov.uk/id/region/birm...   \n",
       "\n",
       "  Region GSS code   Period  Sales volume Reporting period  \\\n",
       "0       E08000025  2018-01        1023.0          monthly   \n",
       "1       E92000001  2018-01       57138.0          monthly   \n",
       "2       E12000007  2018-01        6584.0          monthly   \n",
       "3       E08000003  2018-01         465.0          monthly   \n",
       "4       E08000025  2018-02        1095.0          monthly   \n",
       "\n",
       "   Average price Flats and maisonettes Pivotable date  \n",
       "0                               131877     2018-01-01  \n",
       "1                               227374     2018-01-01  \n",
       "2                               425766     2018-01-01  \n",
       "3                               154751     2018-01-01  \n",
       "4                               132270     2018-02-01  "
      ]
     },
     "execution_count": 14,
     "metadata": {},
     "output_type": "execute_result"
    }
   ],
   "source": [
    "#using UK housing dataset\n",
    "datat=pd.read_csv(\"ukhpi-comparison-fla-avg-birmingham-from-2018-01-01-to-2022-03-24.csv\")\n",
    "datat.head(5)"
   ]
  },
  {
   "cell_type": "code",
   "execution_count": 15,
   "metadata": {},
   "outputs": [
    {
     "data": {
      "text/plain": [
       "Name                                   False\n",
       "URI                                    False\n",
       "Region GSS code                        False\n",
       "Period                                 False\n",
       "Sales volume                            True\n",
       "Reporting period                       False\n",
       "Average price Flats and maisonettes    False\n",
       "Pivotable date                         False\n",
       "dtype: bool"
      ]
     },
     "execution_count": 15,
     "metadata": {},
     "output_type": "execute_result"
    }
   ],
   "source": [
    "#checking for missing values\n",
    "datat.isna().any()"
   ]
  },
  {
   "cell_type": "code",
   "execution_count": 16,
   "metadata": {},
   "outputs": [
    {
     "data": {
      "text/plain": [
       "Name                                   200\n",
       "URI                                    200\n",
       "Region GSS code                        200\n",
       "Period                                 200\n",
       "Sales volume                           192\n",
       "Reporting period                       200\n",
       "Average price Flats and maisonettes    200\n",
       "Pivotable date                         200\n",
       "dtype: int64"
      ]
     },
     "execution_count": 16,
     "metadata": {},
     "output_type": "execute_result"
    }
   ],
   "source": [
    "#count data\n",
    "datat.count()"
   ]
  },
  {
   "cell_type": "code",
   "execution_count": 17,
   "metadata": {},
   "outputs": [],
   "source": [
    "#drop all missing rows\n",
    "datat=datat.dropna(axis=0)"
   ]
  },
  {
   "cell_type": "code",
   "execution_count": 18,
   "metadata": {},
   "outputs": [
    {
     "data": {
      "text/plain": [
       "Name                                   192\n",
       "URI                                    192\n",
       "Region GSS code                        192\n",
       "Period                                 192\n",
       "Sales volume                           192\n",
       "Reporting period                       192\n",
       "Average price Flats and maisonettes    192\n",
       "Pivotable date                         192\n",
       "dtype: int64"
      ]
     },
     "execution_count": 18,
     "metadata": {},
     "output_type": "execute_result"
    }
   ],
   "source": [
    "datat.count()"
   ]
  },
  {
   "cell_type": "code",
   "execution_count": 19,
   "metadata": {},
   "outputs": [
    {
     "data": {
      "text/plain": [
       "Name                                    object\n",
       "URI                                     object\n",
       "Region GSS code                         object\n",
       "Period                                  object\n",
       "Sales volume                           float64\n",
       "Reporting period                        object\n",
       "Average price Flats and maisonettes      int64\n",
       "Pivotable date                          object\n",
       "dtype: object"
      ]
     },
     "execution_count": 19,
     "metadata": {},
     "output_type": "execute_result"
    }
   ],
   "source": [
    "datat.dtypes"
   ]
  },
  {
   "cell_type": "code",
   "execution_count": 20,
   "metadata": {},
   "outputs": [
    {
     "data": {
      "text/html": [
       "\n",
       "<div id=\"altair-viz-54458c8526204b45b5adfe29c309762d\"></div>\n",
       "<script type=\"text/javascript\">\n",
       "  var VEGA_DEBUG = (typeof VEGA_DEBUG == \"undefined\") ? {} : VEGA_DEBUG;\n",
       "  (function(spec, embedOpt){\n",
       "    let outputDiv = document.currentScript.previousElementSibling;\n",
       "    if (outputDiv.id !== \"altair-viz-54458c8526204b45b5adfe29c309762d\") {\n",
       "      outputDiv = document.getElementById(\"altair-viz-54458c8526204b45b5adfe29c309762d\");\n",
       "    }\n",
       "    const paths = {\n",
       "      \"vega\": \"https://cdn.jsdelivr.net/npm//vega@5?noext\",\n",
       "      \"vega-lib\": \"https://cdn.jsdelivr.net/npm//vega-lib?noext\",\n",
       "      \"vega-lite\": \"https://cdn.jsdelivr.net/npm//vega-lite@4.17.0?noext\",\n",
       "      \"vega-embed\": \"https://cdn.jsdelivr.net/npm//vega-embed@6?noext\",\n",
       "    };\n",
       "\n",
       "    function maybeLoadScript(lib, version) {\n",
       "      var key = `${lib.replace(\"-\", \"\")}_version`;\n",
       "      return (VEGA_DEBUG[key] == version) ?\n",
       "        Promise.resolve(paths[lib]) :\n",
       "        new Promise(function(resolve, reject) {\n",
       "          var s = document.createElement('script');\n",
       "          document.getElementsByTagName(\"head\")[0].appendChild(s);\n",
       "          s.async = true;\n",
       "          s.onload = () => {\n",
       "            VEGA_DEBUG[key] = version;\n",
       "            return resolve(paths[lib]);\n",
       "          };\n",
       "          s.onerror = () => reject(`Error loading script: ${paths[lib]}`);\n",
       "          s.src = paths[lib];\n",
       "        });\n",
       "    }\n",
       "\n",
       "    function showError(err) {\n",
       "      outputDiv.innerHTML = `<div class=\"error\" style=\"color:red;\">${err}</div>`;\n",
       "      throw err;\n",
       "    }\n",
       "\n",
       "    function displayChart(vegaEmbed) {\n",
       "      vegaEmbed(outputDiv, spec, embedOpt)\n",
       "        .catch(err => showError(`Javascript Error: ${err.message}<br>This usually means there's a typo in your chart specification. See the javascript console for the full traceback.`));\n",
       "    }\n",
       "\n",
       "    if(typeof define === \"function\" && define.amd) {\n",
       "      requirejs.config({paths});\n",
       "      require([\"vega-embed\"], displayChart, err => showError(`Error loading script: ${err.message}`));\n",
       "    } else {\n",
       "      maybeLoadScript(\"vega\", \"5\")\n",
       "        .then(() => maybeLoadScript(\"vega-lite\", \"4.17.0\"))\n",
       "        .then(() => maybeLoadScript(\"vega-embed\", \"6\"))\n",
       "        .catch(showError)\n",
       "        .then(() => displayChart(vegaEmbed));\n",
       "    }\n",
       "  })({\"config\": {\"view\": {\"continuousWidth\": 400, \"continuousHeight\": 300}}, \"data\": {\"name\": \"data-a0fb9c2f8b4a64aa1ee8337cef23f3ad\"}, \"mark\": \"line\", \"encoding\": {\"color\": {\"field\": \"Name\", \"type\": \"nominal\"}, \"x\": {\"field\": \"Period\", \"type\": \"temporal\"}, \"y\": {\"field\": \"Average price Flats and maisonettes\", \"type\": \"quantitative\"}}, \"$schema\": \"https://vega.github.io/schema/vega-lite/v4.17.0.json\", \"datasets\": {\"data-a0fb9c2f8b4a64aa1ee8337cef23f3ad\": [{\"Name\": \"Birmingham\", \"URI\": \"http://landregistry.data.gov.uk/id/region/birmingham\", \"Region GSS code\": \"E08000025\", \"Period\": \"2018-01\", \"Sales volume\": 1023.0, \"Reporting period\": \"monthly\", \"Average price Flats and maisonettes\": 131877, \"Pivotable date\": \"2018-01-01\"}, {\"Name\": \"England\", \"URI\": \"http://landregistry.data.gov.uk/id/region/england\", \"Region GSS code\": \"E92000001\", \"Period\": \"2018-01\", \"Sales volume\": 57138.0, \"Reporting period\": \"monthly\", \"Average price Flats and maisonettes\": 227374, \"Pivotable date\": \"2018-01-01\"}, {\"Name\": \"London\", \"URI\": \"http://landregistry.data.gov.uk/id/region/london\", \"Region GSS code\": \"E12000007\", \"Period\": \"2018-01\", \"Sales volume\": 6584.0, \"Reporting period\": \"monthly\", \"Average price Flats and maisonettes\": 425766, \"Pivotable date\": \"2018-01-01\"}, {\"Name\": \"Manchester\", \"URI\": \"http://landregistry.data.gov.uk/id/region/manchester\", \"Region GSS code\": \"E08000003\", \"Period\": \"2018-01\", \"Sales volume\": 465.0, \"Reporting period\": \"monthly\", \"Average price Flats and maisonettes\": 154751, \"Pivotable date\": \"2018-01-01\"}, {\"Name\": \"Birmingham\", \"URI\": \"http://landregistry.data.gov.uk/id/region/birmingham\", \"Region GSS code\": \"E08000025\", \"Period\": \"2018-02\", \"Sales volume\": 1095.0, \"Reporting period\": \"monthly\", \"Average price Flats and maisonettes\": 132270, \"Pivotable date\": \"2018-02-01\"}, {\"Name\": \"England\", \"URI\": \"http://landregistry.data.gov.uk/id/region/england\", \"Region GSS code\": \"E92000001\", \"Period\": \"2018-02\", \"Sales volume\": 58494.0, \"Reporting period\": \"monthly\", \"Average price Flats and maisonettes\": 227060, \"Pivotable date\": \"2018-02-01\"}, {\"Name\": \"London\", \"URI\": \"http://landregistry.data.gov.uk/id/region/london\", \"Region GSS code\": \"E12000007\", \"Period\": \"2018-02\", \"Sales volume\": 6386.0, \"Reporting period\": \"monthly\", \"Average price Flats and maisonettes\": 423537, \"Pivotable date\": \"2018-02-01\"}, {\"Name\": \"Manchester\", \"URI\": \"http://landregistry.data.gov.uk/id/region/manchester\", \"Region GSS code\": \"E08000003\", \"Period\": \"2018-02\", \"Sales volume\": 506.0, \"Reporting period\": \"monthly\", \"Average price Flats and maisonettes\": 152888, \"Pivotable date\": \"2018-02-01\"}, {\"Name\": \"Birmingham\", \"URI\": \"http://landregistry.data.gov.uk/id/region/birmingham\", \"Region GSS code\": \"E08000025\", \"Period\": \"2018-03\", \"Sales volume\": 1071.0, \"Reporting period\": \"monthly\", \"Average price Flats and maisonettes\": 131011, \"Pivotable date\": \"2018-03-01\"}, {\"Name\": \"England\", \"URI\": \"http://landregistry.data.gov.uk/id/region/england\", \"Region GSS code\": \"E92000001\", \"Period\": \"2018-03\", \"Sales volume\": 68184.0, \"Reporting period\": \"monthly\", \"Average price Flats and maisonettes\": 223988, \"Pivotable date\": \"2018-03-01\"}, {\"Name\": \"London\", \"URI\": \"http://landregistry.data.gov.uk/id/region/london\", \"Region GSS code\": \"E12000007\", \"Period\": \"2018-03\", \"Sales volume\": 7350.0, \"Reporting period\": \"monthly\", \"Average price Flats and maisonettes\": 416546, \"Pivotable date\": \"2018-03-01\"}, {\"Name\": \"Manchester\", \"URI\": \"http://landregistry.data.gov.uk/id/region/manchester\", \"Region GSS code\": \"E08000003\", \"Period\": \"2018-03\", \"Sales volume\": 597.0, \"Reporting period\": \"monthly\", \"Average price Flats and maisonettes\": 151793, \"Pivotable date\": \"2018-03-01\"}, {\"Name\": \"Birmingham\", \"URI\": \"http://landregistry.data.gov.uk/id/region/birmingham\", \"Region GSS code\": \"E08000025\", \"Period\": \"2018-04\", \"Sales volume\": 839.0, \"Reporting period\": \"monthly\", \"Average price Flats and maisonettes\": 131535, \"Pivotable date\": \"2018-04-01\"}, {\"Name\": \"England\", \"URI\": \"http://landregistry.data.gov.uk/id/region/england\", \"Region GSS code\": \"E92000001\", \"Period\": \"2018-04\", \"Sales volume\": 58939.0, \"Reporting period\": \"monthly\", \"Average price Flats and maisonettes\": 224796, \"Pivotable date\": \"2018-04-01\"}, {\"Name\": \"London\", \"URI\": \"http://landregistry.data.gov.uk/id/region/london\", \"Region GSS code\": \"E12000007\", \"Period\": \"2018-04\", \"Sales volume\": 6511.0, \"Reporting period\": \"monthly\", \"Average price Flats and maisonettes\": 420315, \"Pivotable date\": \"2018-04-01\"}, {\"Name\": \"Manchester\", \"URI\": \"http://landregistry.data.gov.uk/id/region/manchester\", \"Region GSS code\": \"E08000003\", \"Period\": \"2018-04\", \"Sales volume\": 540.0, \"Reporting period\": \"monthly\", \"Average price Flats and maisonettes\": 154417, \"Pivotable date\": \"2018-04-01\"}, {\"Name\": \"Birmingham\", \"URI\": \"http://landregistry.data.gov.uk/id/region/birmingham\", \"Region GSS code\": \"E08000025\", \"Period\": \"2018-05\", \"Sales volume\": 1008.0, \"Reporting period\": \"monthly\", \"Average price Flats and maisonettes\": 132022, \"Pivotable date\": \"2018-05-01\"}, {\"Name\": \"England\", \"URI\": \"http://landregistry.data.gov.uk/id/region/england\", \"Region GSS code\": \"E92000001\", \"Period\": \"2018-05\", \"Sales volume\": 67590.0, \"Reporting period\": \"monthly\", \"Average price Flats and maisonettes\": 225472, \"Pivotable date\": \"2018-05-01\"}, {\"Name\": \"London\", \"URI\": \"http://landregistry.data.gov.uk/id/region/london\", \"Region GSS code\": \"E12000007\", \"Period\": \"2018-05\", \"Sales volume\": 6980.0, \"Reporting period\": \"monthly\", \"Average price Flats and maisonettes\": 420076, \"Pivotable date\": \"2018-05-01\"}, {\"Name\": \"Manchester\", \"URI\": \"http://landregistry.data.gov.uk/id/region/manchester\", \"Region GSS code\": \"E08000003\", \"Period\": \"2018-05\", \"Sales volume\": 515.0, \"Reporting period\": \"monthly\", \"Average price Flats and maisonettes\": 155072, \"Pivotable date\": \"2018-05-01\"}, {\"Name\": \"Birmingham\", \"URI\": \"http://landregistry.data.gov.uk/id/region/birmingham\", \"Region GSS code\": \"E08000025\", \"Period\": \"2018-06\", \"Sales volume\": 1174.0, \"Reporting period\": \"monthly\", \"Average price Flats and maisonettes\": 132596, \"Pivotable date\": \"2018-06-01\"}, {\"Name\": \"England\", \"URI\": \"http://landregistry.data.gov.uk/id/region/england\", \"Region GSS code\": \"E92000001\", \"Period\": \"2018-06\", \"Sales volume\": 79056.0, \"Reporting period\": \"monthly\", \"Average price Flats and maisonettes\": 227383, \"Pivotable date\": \"2018-06-01\"}, {\"Name\": \"London\", \"URI\": \"http://landregistry.data.gov.uk/id/region/london\", \"Region GSS code\": \"E12000007\", \"Period\": \"2018-06\", \"Sales volume\": 8135.0, \"Reporting period\": \"monthly\", \"Average price Flats and maisonettes\": 421188, \"Pivotable date\": \"2018-06-01\"}, {\"Name\": \"Manchester\", \"URI\": \"http://landregistry.data.gov.uk/id/region/manchester\", \"Region GSS code\": \"E08000003\", \"Period\": \"2018-06\", \"Sales volume\": 583.0, \"Reporting period\": \"monthly\", \"Average price Flats and maisonettes\": 158394, \"Pivotable date\": \"2018-06-01\"}, {\"Name\": \"Birmingham\", \"URI\": \"http://landregistry.data.gov.uk/id/region/birmingham\", \"Region GSS code\": \"E08000025\", \"Period\": \"2018-07\", \"Sales volume\": 1213.0, \"Reporting period\": \"monthly\", \"Average price Flats and maisonettes\": 133880, \"Pivotable date\": \"2018-07-01\"}, {\"Name\": \"England\", \"URI\": \"http://landregistry.data.gov.uk/id/region/england\", \"Region GSS code\": \"E92000001\", \"Period\": \"2018-07\", \"Sales volume\": 73910.0, \"Reporting period\": \"monthly\", \"Average price Flats and maisonettes\": 228677, \"Pivotable date\": \"2018-07-01\"}, {\"Name\": \"London\", \"URI\": \"http://landregistry.data.gov.uk/id/region/london\", \"Region GSS code\": \"E12000007\", \"Period\": \"2018-07\", \"Sales volume\": 8303.0, \"Reporting period\": \"monthly\", \"Average price Flats and maisonettes\": 424322, \"Pivotable date\": \"2018-07-01\"}, {\"Name\": \"Manchester\", \"URI\": \"http://landregistry.data.gov.uk/id/region/manchester\", \"Region GSS code\": \"E08000003\", \"Period\": \"2018-07\", \"Sales volume\": 576.0, \"Reporting period\": \"monthly\", \"Average price Flats and maisonettes\": 158462, \"Pivotable date\": \"2018-07-01\"}, {\"Name\": \"Birmingham\", \"URI\": \"http://landregistry.data.gov.uk/id/region/birmingham\", \"Region GSS code\": \"E08000025\", \"Period\": \"2018-08\", \"Sales volume\": 1169.0, \"Reporting period\": \"monthly\", \"Average price Flats and maisonettes\": 134268, \"Pivotable date\": \"2018-08-01\"}, {\"Name\": \"England\", \"URI\": \"http://landregistry.data.gov.uk/id/region/england\", \"Region GSS code\": \"E92000001\", \"Period\": \"2018-08\", \"Sales volume\": 84466.0, \"Reporting period\": \"monthly\", \"Average price Flats and maisonettes\": 228736, \"Pivotable date\": \"2018-08-01\"}, {\"Name\": \"London\", \"URI\": \"http://landregistry.data.gov.uk/id/region/london\", \"Region GSS code\": \"E12000007\", \"Period\": \"2018-08\", \"Sales volume\": 8975.0, \"Reporting period\": \"monthly\", \"Average price Flats and maisonettes\": 420693, \"Pivotable date\": \"2018-08-01\"}, {\"Name\": \"Manchester\", \"URI\": \"http://landregistry.data.gov.uk/id/region/manchester\", \"Region GSS code\": \"E08000003\", \"Period\": \"2018-08\", \"Sales volume\": 625.0, \"Reporting period\": \"monthly\", \"Average price Flats and maisonettes\": 160767, \"Pivotable date\": \"2018-08-01\"}, {\"Name\": \"Birmingham\", \"URI\": \"http://landregistry.data.gov.uk/id/region/birmingham\", \"Region GSS code\": \"E08000025\", \"Period\": \"2018-09\", \"Sales volume\": 1160.0, \"Reporting period\": \"monthly\", \"Average price Flats and maisonettes\": 136508, \"Pivotable date\": \"2018-09-01\"}, {\"Name\": \"England\", \"URI\": \"http://landregistry.data.gov.uk/id/region/england\", \"Region GSS code\": \"E92000001\", \"Period\": \"2018-09\", \"Sales volume\": 68839.0, \"Reporting period\": \"monthly\", \"Average price Flats and maisonettes\": 227508, \"Pivotable date\": \"2018-09-01\"}, {\"Name\": \"London\", \"URI\": \"http://landregistry.data.gov.uk/id/region/london\", \"Region GSS code\": \"E12000007\", \"Period\": \"2018-09\", \"Sales volume\": 7636.0, \"Reporting period\": \"monthly\", \"Average price Flats and maisonettes\": 416752, \"Pivotable date\": \"2018-09-01\"}, {\"Name\": \"Manchester\", \"URI\": \"http://landregistry.data.gov.uk/id/region/manchester\", \"Region GSS code\": \"E08000003\", \"Period\": \"2018-09\", \"Sales volume\": 483.0, \"Reporting period\": \"monthly\", \"Average price Flats and maisonettes\": 158593, \"Pivotable date\": \"2018-09-01\"}, {\"Name\": \"Birmingham\", \"URI\": \"http://landregistry.data.gov.uk/id/region/birmingham\", \"Region GSS code\": \"E08000025\", \"Period\": \"2018-10\", \"Sales volume\": 1289.0, \"Reporting period\": \"monthly\", \"Average price Flats and maisonettes\": 136621, \"Pivotable date\": \"2018-10-01\"}, {\"Name\": \"England\", \"URI\": \"http://landregistry.data.gov.uk/id/region/england\", \"Region GSS code\": \"E92000001\", \"Period\": \"2018-10\", \"Sales volume\": 76864.0, \"Reporting period\": \"monthly\", \"Average price Flats and maisonettes\": 227981, \"Pivotable date\": \"2018-10-01\"}, {\"Name\": \"London\", \"URI\": \"http://landregistry.data.gov.uk/id/region/london\", \"Region GSS code\": \"E12000007\", \"Period\": \"2018-10\", \"Sales volume\": 7956.0, \"Reporting period\": \"monthly\", \"Average price Flats and maisonettes\": 420614, \"Pivotable date\": \"2018-10-01\"}, {\"Name\": \"Manchester\", \"URI\": \"http://landregistry.data.gov.uk/id/region/manchester\", \"Region GSS code\": \"E08000003\", \"Period\": \"2018-10\", \"Sales volume\": 561.0, \"Reporting period\": \"monthly\", \"Average price Flats and maisonettes\": 158853, \"Pivotable date\": \"2018-10-01\"}, {\"Name\": \"Birmingham\", \"URI\": \"http://landregistry.data.gov.uk/id/region/birmingham\", \"Region GSS code\": \"E08000025\", \"Period\": \"2018-11\", \"Sales volume\": 1409.0, \"Reporting period\": \"monthly\", \"Average price Flats and maisonettes\": 137139, \"Pivotable date\": \"2018-11-01\"}, {\"Name\": \"England\", \"URI\": \"http://landregistry.data.gov.uk/id/region/england\", \"Region GSS code\": \"E92000001\", \"Period\": \"2018-11\", \"Sales volume\": 81610.0, \"Reporting period\": \"monthly\", \"Average price Flats and maisonettes\": 225623, \"Pivotable date\": \"2018-11-01\"}, {\"Name\": \"London\", \"URI\": \"http://landregistry.data.gov.uk/id/region/london\", \"Region GSS code\": \"E12000007\", \"Period\": \"2018-11\", \"Sales volume\": 8130.0, \"Reporting period\": \"monthly\", \"Average price Flats and maisonettes\": 414526, \"Pivotable date\": \"2018-11-01\"}, {\"Name\": \"Manchester\", \"URI\": \"http://landregistry.data.gov.uk/id/region/manchester\", \"Region GSS code\": \"E08000003\", \"Period\": \"2018-11\", \"Sales volume\": 582.0, \"Reporting period\": \"monthly\", \"Average price Flats and maisonettes\": 158429, \"Pivotable date\": \"2018-11-01\"}, {\"Name\": \"Birmingham\", \"URI\": \"http://landregistry.data.gov.uk/id/region/birmingham\", \"Region GSS code\": \"E08000025\", \"Period\": \"2018-12\", \"Sales volume\": 1184.0, \"Reporting period\": \"monthly\", \"Average price Flats and maisonettes\": 137576, \"Pivotable date\": \"2018-12-01\"}, {\"Name\": \"England\", \"URI\": \"http://landregistry.data.gov.uk/id/region/england\", \"Region GSS code\": \"E92000001\", \"Period\": \"2018-12\", \"Sales volume\": 69841.0, \"Reporting period\": \"monthly\", \"Average price Flats and maisonettes\": 226923, \"Pivotable date\": \"2018-12-01\"}, {\"Name\": \"London\", \"URI\": \"http://landregistry.data.gov.uk/id/region/london\", \"Region GSS code\": \"E12000007\", \"Period\": \"2018-12\", \"Sales volume\": 6957.0, \"Reporting period\": \"monthly\", \"Average price Flats and maisonettes\": 415052, \"Pivotable date\": \"2018-12-01\"}, {\"Name\": \"Manchester\", \"URI\": \"http://landregistry.data.gov.uk/id/region/manchester\", \"Region GSS code\": \"E08000003\", \"Period\": \"2018-12\", \"Sales volume\": 526.0, \"Reporting period\": \"monthly\", \"Average price Flats and maisonettes\": 159658, \"Pivotable date\": \"2018-12-01\"}, {\"Name\": \"Birmingham\", \"URI\": \"http://landregistry.data.gov.uk/id/region/birmingham\", \"Region GSS code\": \"E08000025\", \"Period\": \"2019-01\", \"Sales volume\": 960.0, \"Reporting period\": \"monthly\", \"Average price Flats and maisonettes\": 137046, \"Pivotable date\": \"2019-01-01\"}, {\"Name\": \"England\", \"URI\": \"http://landregistry.data.gov.uk/id/region/england\", \"Region GSS code\": \"E92000001\", \"Period\": \"2019-01\", \"Sales volume\": 54134.0, \"Reporting period\": \"monthly\", \"Average price Flats and maisonettes\": 223908, \"Pivotable date\": \"2019-01-01\"}, {\"Name\": \"London\", \"URI\": \"http://landregistry.data.gov.uk/id/region/london\", \"Region GSS code\": \"E12000007\", \"Period\": \"2019-01\", \"Sales volume\": 6031.0, \"Reporting period\": \"monthly\", \"Average price Flats and maisonettes\": 410934, \"Pivotable date\": \"2019-01-01\"}, {\"Name\": \"Manchester\", \"URI\": \"http://landregistry.data.gov.uk/id/region/manchester\", \"Region GSS code\": \"E08000003\", \"Period\": \"2019-01\", \"Sales volume\": 468.0, \"Reporting period\": \"monthly\", \"Average price Flats and maisonettes\": 160171, \"Pivotable date\": \"2019-01-01\"}, {\"Name\": \"Birmingham\", \"URI\": \"http://landregistry.data.gov.uk/id/region/birmingham\", \"Region GSS code\": \"E08000025\", \"Period\": \"2019-02\", \"Sales volume\": 1001.0, \"Reporting period\": \"monthly\", \"Average price Flats and maisonettes\": 138094, \"Pivotable date\": \"2019-02-01\"}, {\"Name\": \"England\", \"URI\": \"http://landregistry.data.gov.uk/id/region/england\", \"Region GSS code\": \"E92000001\", \"Period\": \"2019-02\", \"Sales volume\": 57330.0, \"Reporting period\": \"monthly\", \"Average price Flats and maisonettes\": 223812, \"Pivotable date\": \"2019-02-01\"}, {\"Name\": \"London\", \"URI\": \"http://landregistry.data.gov.uk/id/region/london\", \"Region GSS code\": \"E12000007\", \"Period\": \"2019-02\", \"Sales volume\": 5967.0, \"Reporting period\": \"monthly\", \"Average price Flats and maisonettes\": 407751, \"Pivotable date\": \"2019-02-01\"}, {\"Name\": \"Manchester\", \"URI\": \"http://landregistry.data.gov.uk/id/region/manchester\", \"Region GSS code\": \"E08000003\", \"Period\": \"2019-02\", \"Sales volume\": 459.0, \"Reporting period\": \"monthly\", \"Average price Flats and maisonettes\": 158494, \"Pivotable date\": \"2019-02-01\"}, {\"Name\": \"Birmingham\", \"URI\": \"http://landregistry.data.gov.uk/id/region/birmingham\", \"Region GSS code\": \"E08000025\", \"Period\": \"2019-03\", \"Sales volume\": 1143.0, \"Reporting period\": \"monthly\", \"Average price Flats and maisonettes\": 135641, \"Pivotable date\": \"2019-03-01\"}, {\"Name\": \"England\", \"URI\": \"http://landregistry.data.gov.uk/id/region/england\", \"Region GSS code\": \"E92000001\", \"Period\": \"2019-03\", \"Sales volume\": 65206.0, \"Reporting period\": \"monthly\", \"Average price Flats and maisonettes\": 221555, \"Pivotable date\": \"2019-03-01\"}, {\"Name\": \"London\", \"URI\": \"http://landregistry.data.gov.uk/id/region/london\", \"Region GSS code\": \"E12000007\", \"Period\": \"2019-03\", \"Sales volume\": 6875.0, \"Reporting period\": \"monthly\", \"Average price Flats and maisonettes\": 406906, \"Pivotable date\": \"2019-03-01\"}, {\"Name\": \"Manchester\", \"URI\": \"http://landregistry.data.gov.uk/id/region/manchester\", \"Region GSS code\": \"E08000003\", \"Period\": \"2019-03\", \"Sales volume\": 520.0, \"Reporting period\": \"monthly\", \"Average price Flats and maisonettes\": 158382, \"Pivotable date\": \"2019-03-01\"}, {\"Name\": \"Birmingham\", \"URI\": \"http://landregistry.data.gov.uk/id/region/birmingham\", \"Region GSS code\": \"E08000025\", \"Period\": \"2019-04\", \"Sales volume\": 927.0, \"Reporting period\": \"monthly\", \"Average price Flats and maisonettes\": 135992, \"Pivotable date\": \"2019-04-01\"}, {\"Name\": \"England\", \"URI\": \"http://landregistry.data.gov.uk/id/region/england\", \"Region GSS code\": \"E92000001\", \"Period\": \"2019-04\", \"Sales volume\": 60107.0, \"Reporting period\": \"monthly\", \"Average price Flats and maisonettes\": 222913, \"Pivotable date\": \"2019-04-01\"}, {\"Name\": \"London\", \"URI\": \"http://landregistry.data.gov.uk/id/region/london\", \"Region GSS code\": \"E12000007\", \"Period\": \"2019-04\", \"Sales volume\": 6063.0, \"Reporting period\": \"monthly\", \"Average price Flats and maisonettes\": 411728, \"Pivotable date\": \"2019-04-01\"}, {\"Name\": \"Manchester\", \"URI\": \"http://landregistry.data.gov.uk/id/region/manchester\", \"Region GSS code\": \"E08000003\", \"Period\": \"2019-04\", \"Sales volume\": 550.0, \"Reporting period\": \"monthly\", \"Average price Flats and maisonettes\": 158795, \"Pivotable date\": \"2019-04-01\"}, {\"Name\": \"Birmingham\", \"URI\": \"http://landregistry.data.gov.uk/id/region/birmingham\", \"Region GSS code\": \"E08000025\", \"Period\": \"2019-05\", \"Sales volume\": 1030.0, \"Reporting period\": \"monthly\", \"Average price Flats and maisonettes\": 135046, \"Pivotable date\": \"2019-05-01\"}, {\"Name\": \"England\", \"URI\": \"http://landregistry.data.gov.uk/id/region/england\", \"Region GSS code\": \"E92000001\", \"Period\": \"2019-05\", \"Sales volume\": 66812.0, \"Reporting period\": \"monthly\", \"Average price Flats and maisonettes\": 221767, \"Pivotable date\": \"2019-05-01\"}, {\"Name\": \"London\", \"URI\": \"http://landregistry.data.gov.uk/id/region/london\", \"Region GSS code\": \"E12000007\", \"Period\": \"2019-05\", \"Sales volume\": 6815.0, \"Reporting period\": \"monthly\", \"Average price Flats and maisonettes\": 404483, \"Pivotable date\": \"2019-05-01\"}, {\"Name\": \"Manchester\", \"URI\": \"http://landregistry.data.gov.uk/id/region/manchester\", \"Region GSS code\": \"E08000003\", \"Period\": \"2019-05\", \"Sales volume\": 540.0, \"Reporting period\": \"monthly\", \"Average price Flats and maisonettes\": 158903, \"Pivotable date\": \"2019-05-01\"}, {\"Name\": \"Birmingham\", \"URI\": \"http://landregistry.data.gov.uk/id/region/birmingham\", \"Region GSS code\": \"E08000025\", \"Period\": \"2019-06\", \"Sales volume\": 1075.0, \"Reporting period\": \"monthly\", \"Average price Flats and maisonettes\": 135940, \"Pivotable date\": \"2019-06-01\"}, {\"Name\": \"England\", \"URI\": \"http://landregistry.data.gov.uk/id/region/england\", \"Region GSS code\": \"E92000001\", \"Period\": \"2019-06\", \"Sales volume\": 69001.0, \"Reporting period\": \"monthly\", \"Average price Flats and maisonettes\": 224000, \"Pivotable date\": \"2019-06-01\"}, {\"Name\": \"London\", \"URI\": \"http://landregistry.data.gov.uk/id/region/london\", \"Region GSS code\": \"E12000007\", \"Period\": \"2019-06\", \"Sales volume\": 6991.0, \"Reporting period\": \"monthly\", \"Average price Flats and maisonettes\": 410734, \"Pivotable date\": \"2019-06-01\"}, {\"Name\": \"Manchester\", \"URI\": \"http://landregistry.data.gov.uk/id/region/manchester\", \"Region GSS code\": \"E08000003\", \"Period\": \"2019-06\", \"Sales volume\": 465.0, \"Reporting period\": \"monthly\", \"Average price Flats and maisonettes\": 158110, \"Pivotable date\": \"2019-06-01\"}, {\"Name\": \"Birmingham\", \"URI\": \"http://landregistry.data.gov.uk/id/region/birmingham\", \"Region GSS code\": \"E08000025\", \"Period\": \"2019-07\", \"Sales volume\": 1067.0, \"Reporting period\": \"monthly\", \"Average price Flats and maisonettes\": 135815, \"Pivotable date\": \"2019-07-01\"}, {\"Name\": \"England\", \"URI\": \"http://landregistry.data.gov.uk/id/region/england\", \"Region GSS code\": \"E92000001\", \"Period\": \"2019-07\", \"Sales volume\": 73613.0, \"Reporting period\": \"monthly\", \"Average price Flats and maisonettes\": 227260, \"Pivotable date\": \"2019-07-01\"}, {\"Name\": \"London\", \"URI\": \"http://landregistry.data.gov.uk/id/region/london\", \"Region GSS code\": \"E12000007\", \"Period\": \"2019-07\", \"Sales volume\": 8275.0, \"Reporting period\": \"monthly\", \"Average price Flats and maisonettes\": 419875, \"Pivotable date\": \"2019-07-01\"}, {\"Name\": \"Manchester\", \"URI\": \"http://landregistry.data.gov.uk/id/region/manchester\", \"Region GSS code\": \"E08000003\", \"Period\": \"2019-07\", \"Sales volume\": 503.0, \"Reporting period\": \"monthly\", \"Average price Flats and maisonettes\": 158508, \"Pivotable date\": \"2019-07-01\"}, {\"Name\": \"Birmingham\", \"URI\": \"http://landregistry.data.gov.uk/id/region/birmingham\", \"Region GSS code\": \"E08000025\", \"Period\": \"2019-08\", \"Sales volume\": 1180.0, \"Reporting period\": \"monthly\", \"Average price Flats and maisonettes\": 136422, \"Pivotable date\": \"2019-08-01\"}, {\"Name\": \"England\", \"URI\": \"http://landregistry.data.gov.uk/id/region/england\", \"Region GSS code\": \"E92000001\", \"Period\": \"2019-08\", \"Sales volume\": 78838.0, \"Reporting period\": \"monthly\", \"Average price Flats and maisonettes\": 224332, \"Pivotable date\": \"2019-08-01\"}, {\"Name\": \"London\", \"URI\": \"http://landregistry.data.gov.uk/id/region/london\", \"Region GSS code\": \"E12000007\", \"Period\": \"2019-08\", \"Sales volume\": 8797.0, \"Reporting period\": \"monthly\", \"Average price Flats and maisonettes\": 409829, \"Pivotable date\": \"2019-08-01\"}, {\"Name\": \"Manchester\", \"URI\": \"http://landregistry.data.gov.uk/id/region/manchester\", \"Region GSS code\": \"E08000003\", \"Period\": \"2019-08\", \"Sales volume\": 586.0, \"Reporting period\": \"monthly\", \"Average price Flats and maisonettes\": 161091, \"Pivotable date\": \"2019-08-01\"}, {\"Name\": \"Birmingham\", \"URI\": \"http://landregistry.data.gov.uk/id/region/birmingham\", \"Region GSS code\": \"E08000025\", \"Period\": \"2019-09\", \"Sales volume\": 984.0, \"Reporting period\": \"monthly\", \"Average price Flats and maisonettes\": 137530, \"Pivotable date\": \"2019-09-01\"}, {\"Name\": \"England\", \"URI\": \"http://landregistry.data.gov.uk/id/region/england\", \"Region GSS code\": \"E92000001\", \"Period\": \"2019-09\", \"Sales volume\": 69020.0, \"Reporting period\": \"monthly\", \"Average price Flats and maisonettes\": 227640, \"Pivotable date\": \"2019-09-01\"}, {\"Name\": \"London\", \"URI\": \"http://landregistry.data.gov.uk/id/region/london\", \"Region GSS code\": \"E12000007\", \"Period\": \"2019-09\", \"Sales volume\": 7586.0, \"Reporting period\": \"monthly\", \"Average price Flats and maisonettes\": 418324, \"Pivotable date\": \"2019-09-01\"}, {\"Name\": \"Manchester\", \"URI\": \"http://landregistry.data.gov.uk/id/region/manchester\", \"Region GSS code\": \"E08000003\", \"Period\": \"2019-09\", \"Sales volume\": 495.0, \"Reporting period\": \"monthly\", \"Average price Flats and maisonettes\": 162593, \"Pivotable date\": \"2019-09-01\"}, {\"Name\": \"Birmingham\", \"URI\": \"http://landregistry.data.gov.uk/id/region/birmingham\", \"Region GSS code\": \"E08000025\", \"Period\": \"2019-10\", \"Sales volume\": 1201.0, \"Reporting period\": \"monthly\", \"Average price Flats and maisonettes\": 136917, \"Pivotable date\": \"2019-10-01\"}, {\"Name\": \"England\", \"URI\": \"http://landregistry.data.gov.uk/id/region/england\", \"Region GSS code\": \"E92000001\", \"Period\": \"2019-10\", \"Sales volume\": 74620.0, \"Reporting period\": \"monthly\", \"Average price Flats and maisonettes\": 224898, \"Pivotable date\": \"2019-10-01\"}, {\"Name\": \"London\", \"URI\": \"http://landregistry.data.gov.uk/id/region/london\", \"Region GSS code\": \"E12000007\", \"Period\": \"2019-10\", \"Sales volume\": 7901.0, \"Reporting period\": \"monthly\", \"Average price Flats and maisonettes\": 411266, \"Pivotable date\": \"2019-10-01\"}, {\"Name\": \"Manchester\", \"URI\": \"http://landregistry.data.gov.uk/id/region/manchester\", \"Region GSS code\": \"E08000003\", \"Period\": \"2019-10\", \"Sales volume\": 544.0, \"Reporting period\": \"monthly\", \"Average price Flats and maisonettes\": 163453, \"Pivotable date\": \"2019-10-01\"}, {\"Name\": \"Birmingham\", \"URI\": \"http://landregistry.data.gov.uk/id/region/birmingham\", \"Region GSS code\": \"E08000025\", \"Period\": \"2019-11\", \"Sales volume\": 1172.0, \"Reporting period\": \"monthly\", \"Average price Flats and maisonettes\": 135330, \"Pivotable date\": \"2019-11-01\"}, {\"Name\": \"England\", \"URI\": \"http://landregistry.data.gov.uk/id/region/england\", \"Region GSS code\": \"E92000001\", \"Period\": \"2019-11\", \"Sales volume\": 76702.0, \"Reporting period\": \"monthly\", \"Average price Flats and maisonettes\": 222243, \"Pivotable date\": \"2019-11-01\"}, {\"Name\": \"London\", \"URI\": \"http://landregistry.data.gov.uk/id/region/london\", \"Region GSS code\": \"E12000007\", \"Period\": \"2019-11\", \"Sales volume\": 7833.0, \"Reporting period\": \"monthly\", \"Average price Flats and maisonettes\": 405653, \"Pivotable date\": \"2019-11-01\"}, {\"Name\": \"Manchester\", \"URI\": \"http://landregistry.data.gov.uk/id/region/manchester\", \"Region GSS code\": \"E08000003\", \"Period\": \"2019-11\", \"Sales volume\": 524.0, \"Reporting period\": \"monthly\", \"Average price Flats and maisonettes\": 164382, \"Pivotable date\": \"2019-11-01\"}, {\"Name\": \"Birmingham\", \"URI\": \"http://landregistry.data.gov.uk/id/region/birmingham\", \"Region GSS code\": \"E08000025\", \"Period\": \"2019-12\", \"Sales volume\": 1062.0, \"Reporting period\": \"monthly\", \"Average price Flats and maisonettes\": 134223, \"Pivotable date\": \"2019-12-01\"}, {\"Name\": \"England\", \"URI\": \"http://landregistry.data.gov.uk/id/region/england\", \"Region GSS code\": \"E92000001\", \"Period\": \"2019-12\", \"Sales volume\": 70541.0, \"Reporting period\": \"monthly\", \"Average price Flats and maisonettes\": 224882, \"Pivotable date\": \"2019-12-01\"}, {\"Name\": \"London\", \"URI\": \"http://landregistry.data.gov.uk/id/region/london\", \"Region GSS code\": \"E12000007\", \"Period\": \"2019-12\", \"Sales volume\": 7107.0, \"Reporting period\": \"monthly\", \"Average price Flats and maisonettes\": 418382, \"Pivotable date\": \"2019-12-01\"}, {\"Name\": \"Manchester\", \"URI\": \"http://landregistry.data.gov.uk/id/region/manchester\", \"Region GSS code\": \"E08000003\", \"Period\": \"2019-12\", \"Sales volume\": 449.0, \"Reporting period\": \"monthly\", \"Average price Flats and maisonettes\": 163211, \"Pivotable date\": \"2019-12-01\"}, {\"Name\": \"Birmingham\", \"URI\": \"http://landregistry.data.gov.uk/id/region/birmingham\", \"Region GSS code\": \"E08000025\", \"Period\": \"2020-01\", \"Sales volume\": 878.0, \"Reporting period\": \"monthly\", \"Average price Flats and maisonettes\": 134792, \"Pivotable date\": \"2020-01-01\"}, {\"Name\": \"England\", \"URI\": \"http://landregistry.data.gov.uk/id/region/england\", \"Region GSS code\": \"E92000001\", \"Period\": \"2020-01\", \"Sales volume\": 56603.0, \"Reporting period\": \"monthly\", \"Average price Flats and maisonettes\": 223969, \"Pivotable date\": \"2020-01-01\"}, {\"Name\": \"London\", \"URI\": \"http://landregistry.data.gov.uk/id/region/london\", \"Region GSS code\": \"E12000007\", \"Period\": \"2020-01\", \"Sales volume\": 6527.0, \"Reporting period\": \"monthly\", \"Average price Flats and maisonettes\": 416550, \"Pivotable date\": \"2020-01-01\"}, {\"Name\": \"Manchester\", \"URI\": \"http://landregistry.data.gov.uk/id/region/manchester\", \"Region GSS code\": \"E08000003\", \"Period\": \"2020-01\", \"Sales volume\": 498.0, \"Reporting period\": \"monthly\", \"Average price Flats and maisonettes\": 160494, \"Pivotable date\": \"2020-01-01\"}, {\"Name\": \"Birmingham\", \"URI\": \"http://landregistry.data.gov.uk/id/region/birmingham\", \"Region GSS code\": \"E08000025\", \"Period\": \"2020-02\", \"Sales volume\": 907.0, \"Reporting period\": \"monthly\", \"Average price Flats and maisonettes\": 134294, \"Pivotable date\": \"2020-02-01\"}, {\"Name\": \"England\", \"URI\": \"http://landregistry.data.gov.uk/id/region/england\", \"Region GSS code\": \"E92000001\", \"Period\": \"2020-02\", \"Sales volume\": 56568.0, \"Reporting period\": \"monthly\", \"Average price Flats and maisonettes\": 221254, \"Pivotable date\": \"2020-02-01\"}, {\"Name\": \"London\", \"URI\": \"http://landregistry.data.gov.uk/id/region/london\", \"Region GSS code\": \"E12000007\", \"Period\": \"2020-02\", \"Sales volume\": 6465.0, \"Reporting period\": \"monthly\", \"Average price Flats and maisonettes\": 411015, \"Pivotable date\": \"2020-02-01\"}, {\"Name\": \"Manchester\", \"URI\": \"http://landregistry.data.gov.uk/id/region/manchester\", \"Region GSS code\": \"E08000003\", \"Period\": \"2020-02\", \"Sales volume\": 461.0, \"Reporting period\": \"monthly\", \"Average price Flats and maisonettes\": 156206, \"Pivotable date\": \"2020-02-01\"}, {\"Name\": \"Birmingham\", \"URI\": \"http://landregistry.data.gov.uk/id/region/birmingham\", \"Region GSS code\": \"E08000025\", \"Period\": \"2020-03\", \"Sales volume\": 832.0, \"Reporting period\": \"monthly\", \"Average price Flats and maisonettes\": 132925, \"Pivotable date\": \"2020-03-01\"}, {\"Name\": \"England\", \"URI\": \"http://landregistry.data.gov.uk/id/region/england\", \"Region GSS code\": \"E92000001\", \"Period\": \"2020-03\", \"Sales volume\": 57626.0, \"Reporting period\": \"monthly\", \"Average price Flats and maisonettes\": 225478, \"Pivotable date\": \"2020-03-01\"}, {\"Name\": \"London\", \"URI\": \"http://landregistry.data.gov.uk/id/region/london\", \"Region GSS code\": \"E12000007\", \"Period\": \"2020-03\", \"Sales volume\": 6842.0, \"Reporting period\": \"monthly\", \"Average price Flats and maisonettes\": 421036, \"Pivotable date\": \"2020-03-01\"}, {\"Name\": \"Manchester\", \"URI\": \"http://landregistry.data.gov.uk/id/region/manchester\", \"Region GSS code\": \"E08000003\", \"Period\": \"2020-03\", \"Sales volume\": 455.0, \"Reporting period\": \"monthly\", \"Average price Flats and maisonettes\": 158484, \"Pivotable date\": \"2020-03-01\"}, {\"Name\": \"Birmingham\", \"URI\": \"http://landregistry.data.gov.uk/id/region/birmingham\", \"Region GSS code\": \"E08000025\", \"Period\": \"2020-04\", \"Sales volume\": 376.0, \"Reporting period\": \"monthly\", \"Average price Flats and maisonettes\": 131025, \"Pivotable date\": \"2020-04-01\"}, {\"Name\": \"England\", \"URI\": \"http://landregistry.data.gov.uk/id/region/england\", \"Region GSS code\": \"E92000001\", \"Period\": \"2020-04\", \"Sales volume\": 23673.0, \"Reporting period\": \"monthly\", \"Average price Flats and maisonettes\": 219836, \"Pivotable date\": \"2020-04-01\"}, {\"Name\": \"London\", \"URI\": \"http://landregistry.data.gov.uk/id/region/london\", \"Region GSS code\": \"E12000007\", \"Period\": \"2020-04\", \"Sales volume\": 3206.0, \"Reporting period\": \"monthly\", \"Average price Flats and maisonettes\": 412702, \"Pivotable date\": \"2020-04-01\"}, {\"Name\": \"Manchester\", \"URI\": \"http://landregistry.data.gov.uk/id/region/manchester\", \"Region GSS code\": \"E08000003\", \"Period\": \"2020-04\", \"Sales volume\": 221.0, \"Reporting period\": \"monthly\", \"Average price Flats and maisonettes\": 153647, \"Pivotable date\": \"2020-04-01\"}, {\"Name\": \"Birmingham\", \"URI\": \"http://landregistry.data.gov.uk/id/region/birmingham\", \"Region GSS code\": \"E08000025\", \"Period\": \"2020-05\", \"Sales volume\": 606.0, \"Reporting period\": \"monthly\", \"Average price Flats and maisonettes\": 134226, \"Pivotable date\": \"2020-05-01\"}, {\"Name\": \"England\", \"URI\": \"http://landregistry.data.gov.uk/id/region/england\", \"Region GSS code\": \"E92000001\", \"Period\": \"2020-05\", \"Sales volume\": 30798.0, \"Reporting period\": \"monthly\", \"Average price Flats and maisonettes\": 222534, \"Pivotable date\": \"2020-05-01\"}, {\"Name\": \"London\", \"URI\": \"http://landregistry.data.gov.uk/id/region/london\", \"Region GSS code\": \"E12000007\", \"Period\": \"2020-05\", \"Sales volume\": 2929.0, \"Reporting period\": \"monthly\", \"Average price Flats and maisonettes\": 411283, \"Pivotable date\": \"2020-05-01\"}, {\"Name\": \"Manchester\", \"URI\": \"http://landregistry.data.gov.uk/id/region/manchester\", \"Region GSS code\": \"E08000003\", \"Period\": \"2020-05\", \"Sales volume\": 272.0, \"Reporting period\": \"monthly\", \"Average price Flats and maisonettes\": 151419, \"Pivotable date\": \"2020-05-01\"}, {\"Name\": \"Birmingham\", \"URI\": \"http://landregistry.data.gov.uk/id/region/birmingham\", \"Region GSS code\": \"E08000025\", \"Period\": \"2020-06\", \"Sales volume\": 690.0, \"Reporting period\": \"monthly\", \"Average price Flats and maisonettes\": 134237, \"Pivotable date\": \"2020-06-01\"}, {\"Name\": \"England\", \"URI\": \"http://landregistry.data.gov.uk/id/region/england\", \"Region GSS code\": \"E92000001\", \"Period\": \"2020-06\", \"Sales volume\": 46664.0, \"Reporting period\": \"monthly\", \"Average price Flats and maisonettes\": 224025, \"Pivotable date\": \"2020-06-01\"}, {\"Name\": \"London\", \"URI\": \"http://landregistry.data.gov.uk/id/region/london\", \"Region GSS code\": \"E12000007\", \"Period\": \"2020-06\", \"Sales volume\": 4511.0, \"Reporting period\": \"monthly\", \"Average price Flats and maisonettes\": 414734, \"Pivotable date\": \"2020-06-01\"}, {\"Name\": \"Manchester\", \"URI\": \"http://landregistry.data.gov.uk/id/region/manchester\", \"Region GSS code\": \"E08000003\", \"Period\": \"2020-06\", \"Sales volume\": 371.0, \"Reporting period\": \"monthly\", \"Average price Flats and maisonettes\": 150528, \"Pivotable date\": \"2020-06-01\"}, {\"Name\": \"Birmingham\", \"URI\": \"http://landregistry.data.gov.uk/id/region/birmingham\", \"Region GSS code\": \"E08000025\", \"Period\": \"2020-07\", \"Sales volume\": 833.0, \"Reporting period\": \"monthly\", \"Average price Flats and maisonettes\": 137081, \"Pivotable date\": \"2020-07-01\"}, {\"Name\": \"England\", \"URI\": \"http://landregistry.data.gov.uk/id/region/england\", \"Region GSS code\": \"E92000001\", \"Period\": \"2020-07\", \"Sales volume\": 54524.0, \"Reporting period\": \"monthly\", \"Average price Flats and maisonettes\": 227032, \"Pivotable date\": \"2020-07-01\"}, {\"Name\": \"London\", \"URI\": \"http://landregistry.data.gov.uk/id/region/london\", \"Region GSS code\": \"E12000007\", \"Period\": \"2020-07\", \"Sales volume\": 5988.0, \"Reporting period\": \"monthly\", \"Average price Flats and maisonettes\": 419846, \"Pivotable date\": \"2020-07-01\"}, {\"Name\": \"Manchester\", \"URI\": \"http://landregistry.data.gov.uk/id/region/manchester\", \"Region GSS code\": \"E08000003\", \"Period\": \"2020-07\", \"Sales volume\": 448.0, \"Reporting period\": \"monthly\", \"Average price Flats and maisonettes\": 159224, \"Pivotable date\": \"2020-07-01\"}, {\"Name\": \"Birmingham\", \"URI\": \"http://landregistry.data.gov.uk/id/region/birmingham\", \"Region GSS code\": \"E08000025\", \"Period\": \"2020-08\", \"Sales volume\": 735.0, \"Reporting period\": \"monthly\", \"Average price Flats and maisonettes\": 135368, \"Pivotable date\": \"2020-08-01\"}, {\"Name\": \"England\", \"URI\": \"http://landregistry.data.gov.uk/id/region/england\", \"Region GSS code\": \"E92000001\", \"Period\": \"2020-08\", \"Sales volume\": 56476.0, \"Reporting period\": \"monthly\", \"Average price Flats and maisonettes\": 226269, \"Pivotable date\": \"2020-08-01\"}, {\"Name\": \"London\", \"URI\": \"http://landregistry.data.gov.uk/id/region/london\", \"Region GSS code\": \"E12000007\", \"Period\": \"2020-08\", \"Sales volume\": 6148.0, \"Reporting period\": \"monthly\", \"Average price Flats and maisonettes\": 421646, \"Pivotable date\": \"2020-08-01\"}, {\"Name\": \"Manchester\", \"URI\": \"http://landregistry.data.gov.uk/id/region/manchester\", \"Region GSS code\": \"E08000003\", \"Period\": \"2020-08\", \"Sales volume\": 395.0, \"Reporting period\": \"monthly\", \"Average price Flats and maisonettes\": 167558, \"Pivotable date\": \"2020-08-01\"}, {\"Name\": \"Birmingham\", \"URI\": \"http://landregistry.data.gov.uk/id/region/birmingham\", \"Region GSS code\": \"E08000025\", \"Period\": \"2020-09\", \"Sales volume\": 792.0, \"Reporting period\": \"monthly\", \"Average price Flats and maisonettes\": 136554, \"Pivotable date\": \"2020-09-01\"}, {\"Name\": \"England\", \"URI\": \"http://landregistry.data.gov.uk/id/region/england\", \"Region GSS code\": \"E92000001\", \"Period\": \"2020-09\", \"Sales volume\": 62864.0, \"Reporting period\": \"monthly\", \"Average price Flats and maisonettes\": 228668, \"Pivotable date\": \"2020-09-01\"}, {\"Name\": \"London\", \"URI\": \"http://landregistry.data.gov.uk/id/region/london\", \"Region GSS code\": \"E12000007\", \"Period\": \"2020-09\", \"Sales volume\": 7087.0, \"Reporting period\": \"monthly\", \"Average price Flats and maisonettes\": 425218, \"Pivotable date\": \"2020-09-01\"}, {\"Name\": \"Manchester\", \"URI\": \"http://landregistry.data.gov.uk/id/region/manchester\", \"Region GSS code\": \"E08000003\", \"Period\": \"2020-09\", \"Sales volume\": 410.0, \"Reporting period\": \"monthly\", \"Average price Flats and maisonettes\": 168532, \"Pivotable date\": \"2020-09-01\"}, {\"Name\": \"Birmingham\", \"URI\": \"http://landregistry.data.gov.uk/id/region/birmingham\", \"Region GSS code\": \"E08000025\", \"Period\": \"2020-10\", \"Sales volume\": 1082.0, \"Reporting period\": \"monthly\", \"Average price Flats and maisonettes\": 135401, \"Pivotable date\": \"2020-10-01\"}, {\"Name\": \"England\", \"URI\": \"http://landregistry.data.gov.uk/id/region/england\", \"Region GSS code\": \"E92000001\", \"Period\": \"2020-10\", \"Sales volume\": 77907.0, \"Reporting period\": \"monthly\", \"Average price Flats and maisonettes\": 227480, \"Pivotable date\": \"2020-10-01\"}, {\"Name\": \"London\", \"URI\": \"http://landregistry.data.gov.uk/id/region/london\", \"Region GSS code\": \"E12000007\", \"Period\": \"2020-10\", \"Sales volume\": 8083.0, \"Reporting period\": \"monthly\", \"Average price Flats and maisonettes\": 415993, \"Pivotable date\": \"2020-10-01\"}, {\"Name\": \"Manchester\", \"URI\": \"http://landregistry.data.gov.uk/id/region/manchester\", \"Region GSS code\": \"E08000003\", \"Period\": \"2020-10\", \"Sales volume\": 523.0, \"Reporting period\": \"monthly\", \"Average price Flats and maisonettes\": 169067, \"Pivotable date\": \"2020-10-01\"}, {\"Name\": \"Birmingham\", \"URI\": \"http://landregistry.data.gov.uk/id/region/birmingham\", \"Region GSS code\": \"E08000025\", \"Period\": \"2020-11\", \"Sales volume\": 986.0, \"Reporting period\": \"monthly\", \"Average price Flats and maisonettes\": 135919, \"Pivotable date\": \"2020-11-01\"}, {\"Name\": \"England\", \"URI\": \"http://landregistry.data.gov.uk/id/region/england\", \"Region GSS code\": \"E92000001\", \"Period\": \"2020-11\", \"Sales volume\": 76747.0, \"Reporting period\": \"monthly\", \"Average price Flats and maisonettes\": 230585, \"Pivotable date\": \"2020-11-01\"}, {\"Name\": \"London\", \"URI\": \"http://landregistry.data.gov.uk/id/region/london\", \"Region GSS code\": \"E12000007\", \"Period\": \"2020-11\", \"Sales volume\": 7825.0, \"Reporting period\": \"monthly\", \"Average price Flats and maisonettes\": 422998, \"Pivotable date\": \"2020-11-01\"}, {\"Name\": \"Manchester\", \"URI\": \"http://landregistry.data.gov.uk/id/region/manchester\", \"Region GSS code\": \"E08000003\", \"Period\": \"2020-11\", \"Sales volume\": 559.0, \"Reporting period\": \"monthly\", \"Average price Flats and maisonettes\": 170887, \"Pivotable date\": \"2020-11-01\"}, {\"Name\": \"Birmingham\", \"URI\": \"http://landregistry.data.gov.uk/id/region/birmingham\", \"Region GSS code\": \"E08000025\", \"Period\": \"2020-12\", \"Sales volume\": 1077.0, \"Reporting period\": \"monthly\", \"Average price Flats and maisonettes\": 137632, \"Pivotable date\": \"2020-12-01\"}, {\"Name\": \"England\", \"URI\": \"http://landregistry.data.gov.uk/id/region/england\", \"Region GSS code\": \"E92000001\", \"Period\": \"2020-12\", \"Sales volume\": 85705.0, \"Reporting period\": \"monthly\", \"Average price Flats and maisonettes\": 231756, \"Pivotable date\": \"2020-12-01\"}, {\"Name\": \"London\", \"URI\": \"http://landregistry.data.gov.uk/id/region/london\", \"Region GSS code\": \"E12000007\", \"Period\": \"2020-12\", \"Sales volume\": 9201.0, \"Reporting period\": \"monthly\", \"Average price Flats and maisonettes\": 421321, \"Pivotable date\": \"2020-12-01\"}, {\"Name\": \"Manchester\", \"URI\": \"http://landregistry.data.gov.uk/id/region/manchester\", \"Region GSS code\": \"E08000003\", \"Period\": \"2020-12\", \"Sales volume\": 564.0, \"Reporting period\": \"monthly\", \"Average price Flats and maisonettes\": 174340, \"Pivotable date\": \"2020-12-01\"}, {\"Name\": \"Birmingham\", \"URI\": \"http://landregistry.data.gov.uk/id/region/birmingham\", \"Region GSS code\": \"E08000025\", \"Period\": \"2021-01\", \"Sales volume\": 816.0, \"Reporting period\": \"monthly\", \"Average price Flats and maisonettes\": 139241, \"Pivotable date\": \"2021-01-01\"}, {\"Name\": \"England\", \"URI\": \"http://landregistry.data.gov.uk/id/region/england\", \"Region GSS code\": \"E92000001\", \"Period\": \"2021-01\", \"Sales volume\": 64857.0, \"Reporting period\": \"monthly\", \"Average price Flats and maisonettes\": 233302, \"Pivotable date\": \"2021-01-01\"}, {\"Name\": \"London\", \"URI\": \"http://landregistry.data.gov.uk/id/region/london\", \"Region GSS code\": \"E12000007\", \"Period\": \"2021-01\", \"Sales volume\": 7398.0, \"Reporting period\": \"monthly\", \"Average price Flats and maisonettes\": 427497, \"Pivotable date\": \"2021-01-01\"}, {\"Name\": \"Manchester\", \"URI\": \"http://landregistry.data.gov.uk/id/region/manchester\", \"Region GSS code\": \"E08000003\", \"Period\": \"2021-01\", \"Sales volume\": 425.0, \"Reporting period\": \"monthly\", \"Average price Flats and maisonettes\": 176613, \"Pivotable date\": \"2021-01-01\"}, {\"Name\": \"Birmingham\", \"URI\": \"http://landregistry.data.gov.uk/id/region/birmingham\", \"Region GSS code\": \"E08000025\", \"Period\": \"2021-02\", \"Sales volume\": 1092.0, \"Reporting period\": \"monthly\", \"Average price Flats and maisonettes\": 141333, \"Pivotable date\": \"2021-02-01\"}, {\"Name\": \"England\", \"URI\": \"http://landregistry.data.gov.uk/id/region/england\", \"Region GSS code\": \"E92000001\", \"Period\": \"2021-02\", \"Sales volume\": 82420.0, \"Reporting period\": \"monthly\", \"Average price Flats and maisonettes\": 231972, \"Pivotable date\": \"2021-02-01\"}, {\"Name\": \"London\", \"URI\": \"http://landregistry.data.gov.uk/id/region/london\", \"Region GSS code\": \"E12000007\", \"Period\": \"2021-02\", \"Sales volume\": 9233.0, \"Reporting period\": \"monthly\", \"Average price Flats and maisonettes\": 417610, \"Pivotable date\": \"2021-02-01\"}, {\"Name\": \"Manchester\", \"URI\": \"http://landregistry.data.gov.uk/id/region/manchester\", \"Region GSS code\": \"E08000003\", \"Period\": \"2021-02\", \"Sales volume\": 483.0, \"Reporting period\": \"monthly\", \"Average price Flats and maisonettes\": 175787, \"Pivotable date\": \"2021-02-01\"}, {\"Name\": \"Birmingham\", \"URI\": \"http://landregistry.data.gov.uk/id/region/birmingham\", \"Region GSS code\": \"E08000025\", \"Period\": \"2021-03\", \"Sales volume\": 1475.0, \"Reporting period\": \"monthly\", \"Average price Flats and maisonettes\": 142929, \"Pivotable date\": \"2021-03-01\"}, {\"Name\": \"England\", \"URI\": \"http://landregistry.data.gov.uk/id/region/england\", \"Region GSS code\": \"E92000001\", \"Period\": \"2021-03\", \"Sales volume\": 113880.0, \"Reporting period\": \"monthly\", \"Average price Flats and maisonettes\": 234851, \"Pivotable date\": \"2021-03-01\"}, {\"Name\": \"London\", \"URI\": \"http://landregistry.data.gov.uk/id/region/london\", \"Region GSS code\": \"E12000007\", \"Period\": \"2021-03\", \"Sales volume\": 14682.0, \"Reporting period\": \"monthly\", \"Average price Flats and maisonettes\": 425588, \"Pivotable date\": \"2021-03-01\"}, {\"Name\": \"Manchester\", \"URI\": \"http://landregistry.data.gov.uk/id/region/manchester\", \"Region GSS code\": \"E08000003\", \"Period\": \"2021-03\", \"Sales volume\": 783.0, \"Reporting period\": \"monthly\", \"Average price Flats and maisonettes\": 175725, \"Pivotable date\": \"2021-03-01\"}, {\"Name\": \"Birmingham\", \"URI\": \"http://landregistry.data.gov.uk/id/region/birmingham\", \"Region GSS code\": \"E08000025\", \"Period\": \"2021-04\", \"Sales volume\": 975.0, \"Reporting period\": \"monthly\", \"Average price Flats and maisonettes\": 143859, \"Pivotable date\": \"2021-04-01\"}, {\"Name\": \"England\", \"URI\": \"http://landregistry.data.gov.uk/id/region/england\", \"Region GSS code\": \"E92000001\", \"Period\": \"2021-04\", \"Sales volume\": 71549.0, \"Reporting period\": \"monthly\", \"Average price Flats and maisonettes\": 231645, \"Pivotable date\": \"2021-04-01\"}, {\"Name\": \"London\", \"URI\": \"http://landregistry.data.gov.uk/id/region/london\", \"Region GSS code\": \"E12000007\", \"Period\": \"2021-04\", \"Sales volume\": 8140.0, \"Reporting period\": \"monthly\", \"Average price Flats and maisonettes\": 418388, \"Pivotable date\": \"2021-04-01\"}, {\"Name\": \"Manchester\", \"URI\": \"http://landregistry.data.gov.uk/id/region/manchester\", \"Region GSS code\": \"E08000003\", \"Period\": \"2021-04\", \"Sales volume\": 502.0, \"Reporting period\": \"monthly\", \"Average price Flats and maisonettes\": 173647, \"Pivotable date\": \"2021-04-01\"}, {\"Name\": \"Birmingham\", \"URI\": \"http://landregistry.data.gov.uk/id/region/birmingham\", \"Region GSS code\": \"E08000025\", \"Period\": \"2021-05\", \"Sales volume\": 792.0, \"Reporting period\": \"monthly\", \"Average price Flats and maisonettes\": 142549, \"Pivotable date\": \"2021-05-01\"}, {\"Name\": \"England\", \"URI\": \"http://landregistry.data.gov.uk/id/region/england\", \"Region GSS code\": \"E92000001\", \"Period\": \"2021-05\", \"Sales volume\": 60780.0, \"Reporting period\": \"monthly\", \"Average price Flats and maisonettes\": 229350, \"Pivotable date\": \"2021-05-01\"}, {\"Name\": \"London\", \"URI\": \"http://landregistry.data.gov.uk/id/region/london\", \"Region GSS code\": \"E12000007\", \"Period\": \"2021-05\", \"Sales volume\": 6606.0, \"Reporting period\": \"monthly\", \"Average price Flats and maisonettes\": 410861, \"Pivotable date\": \"2021-05-01\"}, {\"Name\": \"Manchester\", \"URI\": \"http://landregistry.data.gov.uk/id/region/manchester\", \"Region GSS code\": \"E08000003\", \"Period\": \"2021-05\", \"Sales volume\": 365.0, \"Reporting period\": \"monthly\", \"Average price Flats and maisonettes\": 172070, \"Pivotable date\": \"2021-05-01\"}, {\"Name\": \"Birmingham\", \"URI\": \"http://landregistry.data.gov.uk/id/region/birmingham\", \"Region GSS code\": \"E08000025\", \"Period\": \"2021-06\", \"Sales volume\": 1591.0, \"Reporting period\": \"monthly\", \"Average price Flats and maisonettes\": 143914, \"Pivotable date\": \"2021-06-01\"}, {\"Name\": \"England\", \"URI\": \"http://landregistry.data.gov.uk/id/region/england\", \"Region GSS code\": \"E92000001\", \"Period\": \"2021-06\", \"Sales volume\": 138270.0, \"Reporting period\": \"monthly\", \"Average price Flats and maisonettes\": 241859, \"Pivotable date\": \"2021-06-01\"}, {\"Name\": \"London\", \"URI\": \"http://landregistry.data.gov.uk/id/region/london\", \"Region GSS code\": \"E12000007\", \"Period\": \"2021-06\", \"Sales volume\": 22980.0, \"Reporting period\": \"monthly\", \"Average price Flats and maisonettes\": 426071, \"Pivotable date\": \"2021-06-01\"}, {\"Name\": \"Manchester\", \"URI\": \"http://landregistry.data.gov.uk/id/region/manchester\", \"Region GSS code\": \"E08000003\", \"Period\": \"2021-06\", \"Sales volume\": 673.0, \"Reporting period\": \"monthly\", \"Average price Flats and maisonettes\": 175218, \"Pivotable date\": \"2021-06-01\"}, {\"Name\": \"Birmingham\", \"URI\": \"http://landregistry.data.gov.uk/id/region/birmingham\", \"Region GSS code\": \"E08000025\", \"Period\": \"2021-07\", \"Sales volume\": 747.0, \"Reporting period\": \"monthly\", \"Average price Flats and maisonettes\": 143616, \"Pivotable date\": \"2021-07-01\"}, {\"Name\": \"England\", \"URI\": \"http://landregistry.data.gov.uk/id/region/england\", \"Region GSS code\": \"E92000001\", \"Period\": \"2021-07\", \"Sales volume\": 44176.0, \"Reporting period\": \"monthly\", \"Average price Flats and maisonettes\": 233822, \"Pivotable date\": \"2021-07-01\"}, {\"Name\": \"London\", \"URI\": \"http://landregistry.data.gov.uk/id/region/london\", \"Region GSS code\": \"E12000007\", \"Period\": \"2021-07\", \"Sales volume\": 2496.0, \"Reporting period\": \"monthly\", \"Average price Flats and maisonettes\": 433922, \"Pivotable date\": \"2021-07-01\"}, {\"Name\": \"Manchester\", \"URI\": \"http://landregistry.data.gov.uk/id/region/manchester\", \"Region GSS code\": \"E08000003\", \"Period\": \"2021-07\", \"Sales volume\": 315.0, \"Reporting period\": \"monthly\", \"Average price Flats and maisonettes\": 175465, \"Pivotable date\": \"2021-07-01\"}, {\"Name\": \"Birmingham\", \"URI\": \"http://landregistry.data.gov.uk/id/region/birmingham\", \"Region GSS code\": \"E08000025\", \"Period\": \"2021-08\", \"Sales volume\": 866.0, \"Reporting period\": \"monthly\", \"Average price Flats and maisonettes\": 143635, \"Pivotable date\": \"2021-08-01\"}, {\"Name\": \"England\", \"URI\": \"http://landregistry.data.gov.uk/id/region/england\", \"Region GSS code\": \"E92000001\", \"Period\": \"2021-08\", \"Sales volume\": 60091.0, \"Reporting period\": \"monthly\", \"Average price Flats and maisonettes\": 234828, \"Pivotable date\": \"2021-08-01\"}, {\"Name\": \"London\", \"URI\": \"http://landregistry.data.gov.uk/id/region/london\", \"Region GSS code\": \"E12000007\", \"Period\": \"2021-08\", \"Sales volume\": 5144.0, \"Reporting period\": \"monthly\", \"Average price Flats and maisonettes\": 432806, \"Pivotable date\": \"2021-08-01\"}, {\"Name\": \"Manchester\", \"URI\": \"http://landregistry.data.gov.uk/id/region/manchester\", \"Region GSS code\": \"E08000003\", \"Period\": \"2021-08\", \"Sales volume\": 363.0, \"Reporting period\": \"monthly\", \"Average price Flats and maisonettes\": 174794, \"Pivotable date\": \"2021-08-01\"}, {\"Name\": \"Birmingham\", \"URI\": \"http://landregistry.data.gov.uk/id/region/birmingham\", \"Region GSS code\": \"E08000025\", \"Period\": \"2021-09\", \"Sales volume\": 1414.0, \"Reporting period\": \"monthly\", \"Average price Flats and maisonettes\": 142529, \"Pivotable date\": \"2021-09-01\"}, {\"Name\": \"England\", \"URI\": \"http://landregistry.data.gov.uk/id/region/england\", \"Region GSS code\": \"E92000001\", \"Period\": \"2021-09\", \"Sales volume\": 103016.0, \"Reporting period\": \"monthly\", \"Average price Flats and maisonettes\": 241299, \"Pivotable date\": \"2021-09-01\"}, {\"Name\": \"London\", \"URI\": \"http://landregistry.data.gov.uk/id/region/london\", \"Region GSS code\": \"E12000007\", \"Period\": \"2021-09\", \"Sales volume\": 10630.0, \"Reporting period\": \"monthly\", \"Average price Flats and maisonettes\": 425477, \"Pivotable date\": \"2021-09-01\"}, {\"Name\": \"Manchester\", \"URI\": \"http://landregistry.data.gov.uk/id/region/manchester\", \"Region GSS code\": \"E08000003\", \"Period\": \"2021-09\", \"Sales volume\": 637.0, \"Reporting period\": \"monthly\", \"Average price Flats and maisonettes\": 172807, \"Pivotable date\": \"2021-09-01\"}, {\"Name\": \"Birmingham\", \"URI\": \"http://landregistry.data.gov.uk/id/region/birmingham\", \"Region GSS code\": \"E08000025\", \"Period\": \"2021-10\", \"Sales volume\": 577.0, \"Reporting period\": \"monthly\", \"Average price Flats and maisonettes\": 142664, \"Pivotable date\": \"2021-10-01\"}, {\"Name\": \"England\", \"URI\": \"http://landregistry.data.gov.uk/id/region/england\", \"Region GSS code\": \"E92000001\", \"Period\": \"2021-10\", \"Sales volume\": 38037.0, \"Reporting period\": \"monthly\", \"Average price Flats and maisonettes\": 236408, \"Pivotable date\": \"2021-10-01\"}, {\"Name\": \"London\", \"URI\": \"http://landregistry.data.gov.uk/id/region/london\", \"Region GSS code\": \"E12000007\", \"Period\": \"2021-10\", \"Sales volume\": 3515.0, \"Reporting period\": \"monthly\", \"Average price Flats and maisonettes\": 429812, \"Pivotable date\": \"2021-10-01\"}, {\"Name\": \"Manchester\", \"URI\": \"http://landregistry.data.gov.uk/id/region/manchester\", \"Region GSS code\": \"E08000003\", \"Period\": \"2021-10\", \"Sales volume\": 295.0, \"Reporting period\": \"monthly\", \"Average price Flats and maisonettes\": 174202, \"Pivotable date\": \"2021-10-01\"}, {\"Name\": \"Birmingham\", \"URI\": \"http://landregistry.data.gov.uk/id/region/birmingham\", \"Region GSS code\": \"E08000025\", \"Period\": \"2021-11\", \"Sales volume\": 568.0, \"Reporting period\": \"monthly\", \"Average price Flats and maisonettes\": 144233, \"Pivotable date\": \"2021-11-01\"}, {\"Name\": \"England\", \"URI\": \"http://landregistry.data.gov.uk/id/region/england\", \"Region GSS code\": \"E92000001\", \"Period\": \"2021-11\", \"Sales volume\": 39283.0, \"Reporting period\": \"monthly\", \"Average price Flats and maisonettes\": 241798, \"Pivotable date\": \"2021-11-01\"}, {\"Name\": \"London\", \"URI\": \"http://landregistry.data.gov.uk/id/region/london\", \"Region GSS code\": \"E12000007\", \"Period\": \"2021-11\", \"Sales volume\": 3890.0, \"Reporting period\": \"monthly\", \"Average price Flats and maisonettes\": 434977, \"Pivotable date\": \"2021-11-01\"}, {\"Name\": \"Manchester\", \"URI\": \"http://landregistry.data.gov.uk/id/region/manchester\", \"Region GSS code\": \"E08000003\", \"Period\": \"2021-11\", \"Sales volume\": 294.0, \"Reporting period\": \"monthly\", \"Average price Flats and maisonettes\": 176385, \"Pivotable date\": \"2021-11-01\"}, {\"Name\": \"Birmingham\", \"URI\": \"http://landregistry.data.gov.uk/id/region/birmingham\", \"Region GSS code\": \"E08000025\", \"Period\": \"2021-12\", \"Sales volume\": 501.0, \"Reporting period\": \"monthly\", \"Average price Flats and maisonettes\": 144556, \"Pivotable date\": \"2021-12-01\"}, {\"Name\": \"England\", \"URI\": \"http://landregistry.data.gov.uk/id/region/england\", \"Region GSS code\": \"E92000001\", \"Period\": \"2021-12\", \"Sales volume\": 33759.0, \"Reporting period\": \"monthly\", \"Average price Flats and maisonettes\": 242493, \"Pivotable date\": \"2021-12-01\"}, {\"Name\": \"London\", \"URI\": \"http://landregistry.data.gov.uk/id/region/london\", \"Region GSS code\": \"E12000007\", \"Period\": \"2021-12\", \"Sales volume\": 3465.0, \"Reporting period\": \"monthly\", \"Average price Flats and maisonettes\": 434091, \"Pivotable date\": \"2021-12-01\"}, {\"Name\": \"Manchester\", \"URI\": \"http://landregistry.data.gov.uk/id/region/manchester\", \"Region GSS code\": \"E08000003\", \"Period\": \"2021-12\", \"Sales volume\": 203.0, \"Reporting period\": \"monthly\", \"Average price Flats and maisonettes\": 175868, \"Pivotable date\": \"2021-12-01\"}]}}, {\"mode\": \"vega-lite\"});\n",
       "</script>"
      ],
      "text/plain": [
       "alt.Chart(...)"
      ]
     },
     "execution_count": 20,
     "metadata": {},
     "output_type": "execute_result"
    }
   ],
   "source": [
    "#Visualize the cleaned data\n",
    "alt.Chart(datat).mark_line().encode(\n",
    "    x='Period:T',\n",
    "    y='Average price Flats and maisonettes:Q',\n",
    "    color='Name:N'\n",
    ")"
   ]
  }
 ],
 "metadata": {
  "interpreter": {
   "hash": "b89b5cfaba6639976dc87ff2fec6d58faec662063367e2c229c520fe71072417"
  },
  "kernelspec": {
   "display_name": "Python 3.10.3 64-bit",
   "language": "python",
   "name": "python3"
  },
  "language_info": {
   "codemirror_mode": {
    "name": "ipython",
    "version": 3
   },
   "file_extension": ".py",
   "mimetype": "text/x-python",
   "name": "python",
   "nbconvert_exporter": "python",
   "pygments_lexer": "ipython3",
   "version": "3.10.3"
  },
  "orig_nbformat": 4
 },
 "nbformat": 4,
 "nbformat_minor": 2
}
