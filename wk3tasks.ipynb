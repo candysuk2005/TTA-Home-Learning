{
 "cells": [
  {
   "cell_type": "code",
   "execution_count": 17,
   "metadata": {},
   "outputs": [
    {
     "name": "stdout",
     "output_type": "stream",
     "text": [
      "Hello, you have orderd 1 chickens,\n",
      "1 fries and 1 number of free flow drinks.\n",
      "Here is your total £ 5.98 ,Sir.\n",
      "Card payment accepted!\n",
      "Your order is processing, please listen to the order number.\n",
      "Thank you and enjoy your meal!\n"
     ]
    }
   ],
   "source": [
    "#Task 1 - KFC food ordering flow chart\n",
    "\n",
    "# Order chicken\n",
    "# Ask customer for number of chicken\n",
    "\n",
    "NumChicken = int(input(\"Please enter number of chicken?\"))\n",
    "Total = NumChicken * 0.99 # £0.99 per chicken\n",
    "\n",
    "# Ask customer order Fries\n",
    "NumFries = int(input(\"Please enter number of fries?\"))\n",
    "Total = Total + (NumFries*1.99) # £1.99 per french fry\n",
    "\n",
    "# Ask customer Order drinks\n",
    "NumDrinks = int(input(\"Please enter number of free flow drinks?\"))\n",
    "Total = Total + (NumDrinks*3) # £3 per free flow drink\n",
    "\n",
    "#Order summary\n",
    "print(\"Hello, you have orderd\", NumChicken,\"chickens,\")\n",
    "print(NumFries,\"fries and\", NumDrinks,\"number of free flow drinks.\")\n",
    "print(\"Here is your total £\", Total,\",Sir.\")\n",
    "\n",
    "# Accept payment\n",
    "CardPay = input(\"Could you please pay by card, yes or no?\")\n",
    "\n",
    "if (CardPay==\"yes\"):\n",
    "    print(\"Card payment accepted!\")\n",
    "\n",
    "    # Submit order\n",
    "    print(\"Your order is processing, please listen to the order number.\")\n",
    "    print(\"Thank you and enjoy your meal!\")\n",
    "else:\n",
    "    print(\"Payment failed! please order again.\")"
   ]
  },
  {
   "cell_type": "code",
   "execution_count": 18,
   "metadata": {},
   "outputs": [
    {
     "name": "stdout",
     "output_type": "stream",
     "text": [
      "year 0 : £ 2000.0\n",
      "year 1 : £ 1800.0\n",
      "year 2 : £ 1620.0\n",
      "year 3 : £ 1458.0\n",
      "year 4 : £ 1312.2\n",
      "year 5 : £ 1180.98\n",
      "year 6 : £ 1062.882\n"
     ]
    }
   ],
   "source": [
    "# Task 2 - Motorbike value\n",
    "motorbike = 2000.00\n",
    "year = 0\n",
    "\n",
    "while motorbike > 1000:\n",
    "    print(\"year\",year,\": £\",motorbike)\n",
    "    year = year + 1\n",
    "    motorbike = motorbike * 0.9"
   ]
  },
  {
   "cell_type": "code",
   "execution_count": 19,
   "metadata": {},
   "outputs": [
    {
     "name": "stdout",
     "output_type": "stream",
     "text": [
      "The choice of operator menu:\n",
      "Enter 'a' if you want to add(+)\n",
      "Enter 'b' if you want to subtract(-)\n",
      "Enter 'c' if you want to multiple(*)\n",
      "Enter 'd' if you want to divide(/)\n",
      "Enter 'e' if you want to square(**)\n",
      "3 - 3 = 0\n"
     ]
    }
   ],
   "source": [
    "# Task 3 - Calculation\n",
    "\n",
    "number1 = int(input(\"Please enter first number.\"))\n",
    "number2 = int(input(\"Please enter second number.\"))\n",
    "\n",
    "print(\"The choice of operator menu:\")\n",
    "print(\"Enter 'a' if you want to add(+)\")\n",
    "print(\"Enter 'b' if you want to subtract(-)\")\n",
    "print(\"Enter 'c' if you want to multiple(*)\")\n",
    "print(\"Enter 'd' if you want to divide(/)\")\n",
    "print(\"Enter 'e' if you want to square(**)\")\n",
    "choice = input(\"Type a,b,c,d or e.\")\n",
    "\n",
    "total = 0\n",
    "if choice == \"a\":\n",
    "    total = number1 + number2\n",
    "    print(number1, \"+\", number2, \"=\", total)\n",
    "elif choice == \"b\":\n",
    "    total = number1 - number2\n",
    "    print(number1, \"-\", number2, \"=\", total)\n",
    "elif choice == \"c\":\n",
    "    total = number1 * number2\n",
    "    print(number1, \"*\", number2, \"=\", total)\n",
    "elif choice == \"d\":\n",
    "    total = number1 / number2\n",
    "    print(number1, \"/\", number2, \"=\", total)\n",
    "elif choice == \"e\":\n",
    "    total = number1 ** number2\n",
    "    print(number1, \"to the power of\", number2, \"is\", total)\n",
    "else:\n",
    "    print(\"no such input!\")"
   ]
  }
 ],
 "metadata": {
  "interpreter": {
   "hash": "b89b5cfaba6639976dc87ff2fec6d58faec662063367e2c229c520fe71072417"
  },
  "kernelspec": {
   "display_name": "Python 3.10.3 64-bit",
   "language": "python",
   "name": "python3"
  },
  "language_info": {
   "codemirror_mode": {
    "name": "ipython",
    "version": 3
   },
   "file_extension": ".py",
   "mimetype": "text/x-python",
   "name": "python",
   "nbconvert_exporter": "python",
   "pygments_lexer": "ipython3",
   "version": "3.10.3"
  },
  "orig_nbformat": 4
 },
 "nbformat": 4,
 "nbformat_minor": 2
}
